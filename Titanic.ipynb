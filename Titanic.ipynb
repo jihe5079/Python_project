{
 "cells": [
  {
   "cell_type": "markdown",
   "metadata": {},
   "source": [
    "# Exploratory data analysis and Prediction for Titanic data\n",
    "\n",
    "The data of Titanic can be downloaded from kaggle:\n",
    "https://www.kaggle.com/c/titanic"
   ]
  },
  {
   "cell_type": "markdown",
   "metadata": {},
   "source": [
    "## Importing necessary libraries"
   ]
  },
  {
   "cell_type": "code",
   "execution_count": 180,
   "metadata": {},
   "outputs": [],
   "source": [
    "import numpy as np\n",
    "import pandas as pd\n",
    "import matplotlib.pyplot as plt\n",
    "import seaborn as sns\n",
    "plt.style.use('ggplot')\n",
    "\n",
    "from sklearn.compose import make_column_transformer\n",
    "from sklearn.preprocessing import RobustScaler\n",
    "from sklearn.preprocessing import OneHotEncoder\n",
    "\n",
    "from sklearn.preprocessing import OneHotEncoder, LabelEncoder\n",
    "from sklearn.preprocessing import MinMaxScaler\n",
    "from sklearn.model_selection import train_test_split\n",
    "\n",
    "from sklearn.neighbors import KNeighborsClassifier\n",
    "from sklearn import tree\n",
    "from sklearn.tree import DecisionTreeClassifier\n",
    "from sklearn.linear_model import LogisticRegression\n",
    "\n",
    "from sklearn.model_selection import GridSearchCV\n",
    "from sklearn.model_selection import cross_val_score\n",
    "from sklearn.metrics import confusion_matrix, accuracy_score"
   ]
  },
  {
   "cell_type": "markdown",
   "metadata": {},
   "source": [
    "# Load and Scan Data"
   ]
  },
  {
   "cell_type": "code",
   "execution_count": 181,
   "metadata": {
    "scrolled": true
   },
   "outputs": [
    {
     "name": "stdout",
     "output_type": "stream",
     "text": [
      "(891, 12)\n"
     ]
    },
    {
     "data": {
      "text/html": [
       "<div>\n",
       "<style scoped>\n",
       "    .dataframe tbody tr th:only-of-type {\n",
       "        vertical-align: middle;\n",
       "    }\n",
       "\n",
       "    .dataframe tbody tr th {\n",
       "        vertical-align: top;\n",
       "    }\n",
       "\n",
       "    .dataframe thead th {\n",
       "        text-align: right;\n",
       "    }\n",
       "</style>\n",
       "<table border=\"1\" class=\"dataframe\">\n",
       "  <thead>\n",
       "    <tr style=\"text-align: right;\">\n",
       "      <th></th>\n",
       "      <th>PassengerId</th>\n",
       "      <th>Survived</th>\n",
       "      <th>Pclass</th>\n",
       "      <th>Name</th>\n",
       "      <th>Sex</th>\n",
       "      <th>Age</th>\n",
       "      <th>SibSp</th>\n",
       "      <th>Parch</th>\n",
       "      <th>Ticket</th>\n",
       "      <th>Fare</th>\n",
       "      <th>Cabin</th>\n",
       "      <th>Embarked</th>\n",
       "    </tr>\n",
       "  </thead>\n",
       "  <tbody>\n",
       "    <tr>\n",
       "      <th>0</th>\n",
       "      <td>1</td>\n",
       "      <td>0</td>\n",
       "      <td>3</td>\n",
       "      <td>Braund, Mr. Owen Harris</td>\n",
       "      <td>male</td>\n",
       "      <td>22.0</td>\n",
       "      <td>1</td>\n",
       "      <td>0</td>\n",
       "      <td>A/5 21171</td>\n",
       "      <td>7.2500</td>\n",
       "      <td>NaN</td>\n",
       "      <td>S</td>\n",
       "    </tr>\n",
       "    <tr>\n",
       "      <th>1</th>\n",
       "      <td>2</td>\n",
       "      <td>1</td>\n",
       "      <td>1</td>\n",
       "      <td>Cumings, Mrs. John Bradley (Florence Briggs Th...</td>\n",
       "      <td>female</td>\n",
       "      <td>38.0</td>\n",
       "      <td>1</td>\n",
       "      <td>0</td>\n",
       "      <td>PC 17599</td>\n",
       "      <td>71.2833</td>\n",
       "      <td>C85</td>\n",
       "      <td>C</td>\n",
       "    </tr>\n",
       "    <tr>\n",
       "      <th>2</th>\n",
       "      <td>3</td>\n",
       "      <td>1</td>\n",
       "      <td>3</td>\n",
       "      <td>Heikkinen, Miss. Laina</td>\n",
       "      <td>female</td>\n",
       "      <td>26.0</td>\n",
       "      <td>0</td>\n",
       "      <td>0</td>\n",
       "      <td>STON/O2. 3101282</td>\n",
       "      <td>7.9250</td>\n",
       "      <td>NaN</td>\n",
       "      <td>S</td>\n",
       "    </tr>\n",
       "    <tr>\n",
       "      <th>3</th>\n",
       "      <td>4</td>\n",
       "      <td>1</td>\n",
       "      <td>1</td>\n",
       "      <td>Futrelle, Mrs. Jacques Heath (Lily May Peel)</td>\n",
       "      <td>female</td>\n",
       "      <td>35.0</td>\n",
       "      <td>1</td>\n",
       "      <td>0</td>\n",
       "      <td>113803</td>\n",
       "      <td>53.1000</td>\n",
       "      <td>C123</td>\n",
       "      <td>S</td>\n",
       "    </tr>\n",
       "    <tr>\n",
       "      <th>4</th>\n",
       "      <td>5</td>\n",
       "      <td>0</td>\n",
       "      <td>3</td>\n",
       "      <td>Allen, Mr. William Henry</td>\n",
       "      <td>male</td>\n",
       "      <td>35.0</td>\n",
       "      <td>0</td>\n",
       "      <td>0</td>\n",
       "      <td>373450</td>\n",
       "      <td>8.0500</td>\n",
       "      <td>NaN</td>\n",
       "      <td>S</td>\n",
       "    </tr>\n",
       "    <tr>\n",
       "      <th>5</th>\n",
       "      <td>6</td>\n",
       "      <td>0</td>\n",
       "      <td>3</td>\n",
       "      <td>Moran, Mr. James</td>\n",
       "      <td>male</td>\n",
       "      <td>NaN</td>\n",
       "      <td>0</td>\n",
       "      <td>0</td>\n",
       "      <td>330877</td>\n",
       "      <td>8.4583</td>\n",
       "      <td>NaN</td>\n",
       "      <td>Q</td>\n",
       "    </tr>\n",
       "    <tr>\n",
       "      <th>6</th>\n",
       "      <td>7</td>\n",
       "      <td>0</td>\n",
       "      <td>1</td>\n",
       "      <td>McCarthy, Mr. Timothy J</td>\n",
       "      <td>male</td>\n",
       "      <td>54.0</td>\n",
       "      <td>0</td>\n",
       "      <td>0</td>\n",
       "      <td>17463</td>\n",
       "      <td>51.8625</td>\n",
       "      <td>E46</td>\n",
       "      <td>S</td>\n",
       "    </tr>\n",
       "    <tr>\n",
       "      <th>7</th>\n",
       "      <td>8</td>\n",
       "      <td>0</td>\n",
       "      <td>3</td>\n",
       "      <td>Palsson, Master. Gosta Leonard</td>\n",
       "      <td>male</td>\n",
       "      <td>2.0</td>\n",
       "      <td>3</td>\n",
       "      <td>1</td>\n",
       "      <td>349909</td>\n",
       "      <td>21.0750</td>\n",
       "      <td>NaN</td>\n",
       "      <td>S</td>\n",
       "    </tr>\n",
       "    <tr>\n",
       "      <th>8</th>\n",
       "      <td>9</td>\n",
       "      <td>1</td>\n",
       "      <td>3</td>\n",
       "      <td>Johnson, Mrs. Oscar W (Elisabeth Vilhelmina Berg)</td>\n",
       "      <td>female</td>\n",
       "      <td>27.0</td>\n",
       "      <td>0</td>\n",
       "      <td>2</td>\n",
       "      <td>347742</td>\n",
       "      <td>11.1333</td>\n",
       "      <td>NaN</td>\n",
       "      <td>S</td>\n",
       "    </tr>\n",
       "    <tr>\n",
       "      <th>9</th>\n",
       "      <td>10</td>\n",
       "      <td>1</td>\n",
       "      <td>2</td>\n",
       "      <td>Nasser, Mrs. Nicholas (Adele Achem)</td>\n",
       "      <td>female</td>\n",
       "      <td>14.0</td>\n",
       "      <td>1</td>\n",
       "      <td>0</td>\n",
       "      <td>237736</td>\n",
       "      <td>30.0708</td>\n",
       "      <td>NaN</td>\n",
       "      <td>C</td>\n",
       "    </tr>\n",
       "  </tbody>\n",
       "</table>\n",
       "</div>"
      ],
      "text/plain": [
       "   PassengerId  Survived  Pclass  \\\n",
       "0            1         0       3   \n",
       "1            2         1       1   \n",
       "2            3         1       3   \n",
       "3            4         1       1   \n",
       "4            5         0       3   \n",
       "5            6         0       3   \n",
       "6            7         0       1   \n",
       "7            8         0       3   \n",
       "8            9         1       3   \n",
       "9           10         1       2   \n",
       "\n",
       "                                                Name     Sex   Age  SibSp  \\\n",
       "0                            Braund, Mr. Owen Harris    male  22.0      1   \n",
       "1  Cumings, Mrs. John Bradley (Florence Briggs Th...  female  38.0      1   \n",
       "2                             Heikkinen, Miss. Laina  female  26.0      0   \n",
       "3       Futrelle, Mrs. Jacques Heath (Lily May Peel)  female  35.0      1   \n",
       "4                           Allen, Mr. William Henry    male  35.0      0   \n",
       "5                                   Moran, Mr. James    male   NaN      0   \n",
       "6                            McCarthy, Mr. Timothy J    male  54.0      0   \n",
       "7                     Palsson, Master. Gosta Leonard    male   2.0      3   \n",
       "8  Johnson, Mrs. Oscar W (Elisabeth Vilhelmina Berg)  female  27.0      0   \n",
       "9                Nasser, Mrs. Nicholas (Adele Achem)  female  14.0      1   \n",
       "\n",
       "   Parch            Ticket     Fare Cabin Embarked  \n",
       "0      0         A/5 21171   7.2500   NaN        S  \n",
       "1      0          PC 17599  71.2833   C85        C  \n",
       "2      0  STON/O2. 3101282   7.9250   NaN        S  \n",
       "3      0            113803  53.1000  C123        S  \n",
       "4      0            373450   8.0500   NaN        S  \n",
       "5      0            330877   8.4583   NaN        Q  \n",
       "6      0             17463  51.8625   E46        S  \n",
       "7      1            349909  21.0750   NaN        S  \n",
       "8      2            347742  11.1333   NaN        S  \n",
       "9      0            237736  30.0708   NaN        C  "
      ]
     },
     "execution_count": 181,
     "metadata": {},
     "output_type": "execute_result"
    }
   ],
   "source": [
    "train = pd.read_csv(\"titanic/train.csv\")\n",
    "test = pd.read_csv(\"titanic/test.csv\")\n",
    "print(train.shape)\n",
    "train.head(10)"
   ]
  },
  {
   "cell_type": "markdown",
   "metadata": {},
   "source": [
    "We can see the data contains 891 passengers and 12 features. The label 'Survived' is our target."
   ]
  },
  {
   "cell_type": "code",
   "execution_count": 182,
   "metadata": {
    "scrolled": true
   },
   "outputs": [
    {
     "name": "stdout",
     "output_type": "stream",
     "text": [
      "(418, 11)\n"
     ]
    },
    {
     "data": {
      "text/html": [
       "<div>\n",
       "<style scoped>\n",
       "    .dataframe tbody tr th:only-of-type {\n",
       "        vertical-align: middle;\n",
       "    }\n",
       "\n",
       "    .dataframe tbody tr th {\n",
       "        vertical-align: top;\n",
       "    }\n",
       "\n",
       "    .dataframe thead th {\n",
       "        text-align: right;\n",
       "    }\n",
       "</style>\n",
       "<table border=\"1\" class=\"dataframe\">\n",
       "  <thead>\n",
       "    <tr style=\"text-align: right;\">\n",
       "      <th></th>\n",
       "      <th>PassengerId</th>\n",
       "      <th>Pclass</th>\n",
       "      <th>Name</th>\n",
       "      <th>Sex</th>\n",
       "      <th>Age</th>\n",
       "      <th>SibSp</th>\n",
       "      <th>Parch</th>\n",
       "      <th>Ticket</th>\n",
       "      <th>Fare</th>\n",
       "      <th>Cabin</th>\n",
       "      <th>Embarked</th>\n",
       "    </tr>\n",
       "  </thead>\n",
       "  <tbody>\n",
       "    <tr>\n",
       "      <th>0</th>\n",
       "      <td>892</td>\n",
       "      <td>3</td>\n",
       "      <td>Kelly, Mr. James</td>\n",
       "      <td>male</td>\n",
       "      <td>34.5</td>\n",
       "      <td>0</td>\n",
       "      <td>0</td>\n",
       "      <td>330911</td>\n",
       "      <td>7.8292</td>\n",
       "      <td>NaN</td>\n",
       "      <td>Q</td>\n",
       "    </tr>\n",
       "    <tr>\n",
       "      <th>1</th>\n",
       "      <td>893</td>\n",
       "      <td>3</td>\n",
       "      <td>Wilkes, Mrs. James (Ellen Needs)</td>\n",
       "      <td>female</td>\n",
       "      <td>47.0</td>\n",
       "      <td>1</td>\n",
       "      <td>0</td>\n",
       "      <td>363272</td>\n",
       "      <td>7.0000</td>\n",
       "      <td>NaN</td>\n",
       "      <td>S</td>\n",
       "    </tr>\n",
       "    <tr>\n",
       "      <th>2</th>\n",
       "      <td>894</td>\n",
       "      <td>2</td>\n",
       "      <td>Myles, Mr. Thomas Francis</td>\n",
       "      <td>male</td>\n",
       "      <td>62.0</td>\n",
       "      <td>0</td>\n",
       "      <td>0</td>\n",
       "      <td>240276</td>\n",
       "      <td>9.6875</td>\n",
       "      <td>NaN</td>\n",
       "      <td>Q</td>\n",
       "    </tr>\n",
       "    <tr>\n",
       "      <th>3</th>\n",
       "      <td>895</td>\n",
       "      <td>3</td>\n",
       "      <td>Wirz, Mr. Albert</td>\n",
       "      <td>male</td>\n",
       "      <td>27.0</td>\n",
       "      <td>0</td>\n",
       "      <td>0</td>\n",
       "      <td>315154</td>\n",
       "      <td>8.6625</td>\n",
       "      <td>NaN</td>\n",
       "      <td>S</td>\n",
       "    </tr>\n",
       "    <tr>\n",
       "      <th>4</th>\n",
       "      <td>896</td>\n",
       "      <td>3</td>\n",
       "      <td>Hirvonen, Mrs. Alexander (Helga E Lindqvist)</td>\n",
       "      <td>female</td>\n",
       "      <td>22.0</td>\n",
       "      <td>1</td>\n",
       "      <td>1</td>\n",
       "      <td>3101298</td>\n",
       "      <td>12.2875</td>\n",
       "      <td>NaN</td>\n",
       "      <td>S</td>\n",
       "    </tr>\n",
       "  </tbody>\n",
       "</table>\n",
       "</div>"
      ],
      "text/plain": [
       "   PassengerId  Pclass                                          Name     Sex  \\\n",
       "0          892       3                              Kelly, Mr. James    male   \n",
       "1          893       3              Wilkes, Mrs. James (Ellen Needs)  female   \n",
       "2          894       2                     Myles, Mr. Thomas Francis    male   \n",
       "3          895       3                              Wirz, Mr. Albert    male   \n",
       "4          896       3  Hirvonen, Mrs. Alexander (Helga E Lindqvist)  female   \n",
       "\n",
       "    Age  SibSp  Parch   Ticket     Fare Cabin Embarked  \n",
       "0  34.5      0      0   330911   7.8292   NaN        Q  \n",
       "1  47.0      1      0   363272   7.0000   NaN        S  \n",
       "2  62.0      0      0   240276   9.6875   NaN        Q  \n",
       "3  27.0      0      0   315154   8.6625   NaN        S  \n",
       "4  22.0      1      1  3101298  12.2875   NaN        S  "
      ]
     },
     "execution_count": 182,
     "metadata": {},
     "output_type": "execute_result"
    }
   ],
   "source": [
    "print(test.shape)\n",
    "test.head()"
   ]
  },
  {
   "cell_type": "markdown",
   "metadata": {},
   "source": [
    "## Exploratory data analysis"
   ]
  },
  {
   "cell_type": "code",
   "execution_count": 183,
   "metadata": {},
   "outputs": [
    {
     "name": "stdout",
     "output_type": "stream",
     "text": [
      "<class 'pandas.core.frame.DataFrame'>\n",
      "RangeIndex: 891 entries, 0 to 890\n",
      "Data columns (total 12 columns):\n",
      " #   Column       Non-Null Count  Dtype  \n",
      "---  ------       --------------  -----  \n",
      " 0   PassengerId  891 non-null    int64  \n",
      " 1   Survived     891 non-null    int64  \n",
      " 2   Pclass       891 non-null    int64  \n",
      " 3   Name         891 non-null    object \n",
      " 4   Sex          891 non-null    object \n",
      " 5   Age          714 non-null    float64\n",
      " 6   SibSp        891 non-null    int64  \n",
      " 7   Parch        891 non-null    int64  \n",
      " 8   Ticket       891 non-null    object \n",
      " 9   Fare         891 non-null    float64\n",
      " 10  Cabin        204 non-null    object \n",
      " 11  Embarked     889 non-null    object \n",
      "dtypes: float64(2), int64(5), object(5)\n",
      "memory usage: 83.7+ KB\n"
     ]
    }
   ],
   "source": [
    "train.info()"
   ]
  },
  {
   "cell_type": "code",
   "execution_count": 184,
   "metadata": {},
   "outputs": [
    {
     "data": {
      "text/plain": [
       "PassengerId      0\n",
       "Survived         0\n",
       "Pclass           0\n",
       "Name             0\n",
       "Sex              0\n",
       "Age            177\n",
       "SibSp            0\n",
       "Parch            0\n",
       "Ticket           0\n",
       "Fare             0\n",
       "Cabin          687\n",
       "Embarked         2\n",
       "dtype: int64"
      ]
     },
     "execution_count": 184,
     "metadata": {},
     "output_type": "execute_result"
    }
   ],
   "source": [
    "train.isnull().sum()"
   ]
  },
  {
   "cell_type": "markdown",
   "metadata": {},
   "source": [
    "It is clear that the 3 features \"Age\", \"Cabin\", and \"Embarked\" contain null values. We will deal with this problem later."
   ]
  },
  {
   "cell_type": "markdown",
   "metadata": {},
   "source": [
    "### The proportion of survival passengers"
   ]
  },
  {
   "cell_type": "code",
   "execution_count": 185,
   "metadata": {},
   "outputs": [
    {
     "data": {
      "text/plain": [
       "0    549\n",
       "1    342\n",
       "Name: Survived, dtype: int64"
      ]
     },
     "execution_count": 185,
     "metadata": {},
     "output_type": "execute_result"
    }
   ],
   "source": [
    "train[\"Survived\"].value_counts()"
   ]
  },
  {
   "cell_type": "code",
   "execution_count": 310,
   "metadata": {},
   "outputs": [
    {
     "data": {
      "text/plain": [
       "<AxesSubplot:xlabel='Survived', ylabel='count'>"
      ]
     },
     "execution_count": 310,
     "metadata": {},
     "output_type": "execute_result"
    },
    {
     "data": {
      "image/png": "[encoded data removed]",
      "text/plain": [
       "<Figure size 360x288 with 1 Axes>"
      ]
     },
     "metadata": {},
     "output_type": "display_data"
    }
   ],
   "source": [
    "plt.figure(figsize=(5, 4))\n",
    "sns.countplot(x=\"Survived\", data=train)"
   ]
  },
  {
   "cell_type": "markdown",
   "metadata": {},
   "source": [
    "In the trianing set, only about 38% of total passengers survived. Next, we'll examine the relationship between the label \"Survived\" and other features."
   ]
  },
  {
   "cell_type": "markdown",
   "metadata": {},
   "source": [
    "### The relationship between the label \"Survived\" and other features."
   ]
  },
  {
   "cell_type": "markdown",
   "metadata": {},
   "source": [
    "#### \"Pclass\" (ordinal feature)"
   ]
  },
  {
   "cell_type": "code",
   "execution_count": 187,
   "metadata": {
    "scrolled": true
   },
   "outputs": [
    {
     "data": {
      "text/html": [
       "<style  type=\"text/css\" >\n",
       "#T_0c9fa0b5_0a47_11eb_8c71_9cb6d0fe8896row0_col0,#T_0c9fa0b5_0a47_11eb_8c71_9cb6d0fe8896row1_col1,#T_0c9fa0b5_0a47_11eb_8c71_9cb6d0fe8896row1_col2{\n",
       "            background-color:  #fff7fb;\n",
       "            color:  #000000;\n",
       "        }#T_0c9fa0b5_0a47_11eb_8c71_9cb6d0fe8896row0_col1{\n",
       "            background-color:  #dddbec;\n",
       "            color:  #000000;\n",
       "        }#T_0c9fa0b5_0a47_11eb_8c71_9cb6d0fe8896row0_col2{\n",
       "            background-color:  #f8f1f8;\n",
       "            color:  #000000;\n",
       "        }#T_0c9fa0b5_0a47_11eb_8c71_9cb6d0fe8896row1_col0{\n",
       "            background-color:  #faf2f8;\n",
       "            color:  #000000;\n",
       "        }#T_0c9fa0b5_0a47_11eb_8c71_9cb6d0fe8896row2_col0{\n",
       "            background-color:  #3790c0;\n",
       "            color:  #000000;\n",
       "        }#T_0c9fa0b5_0a47_11eb_8c71_9cb6d0fe8896row2_col1{\n",
       "            background-color:  #ece7f2;\n",
       "            color:  #000000;\n",
       "        }#T_0c9fa0b5_0a47_11eb_8c71_9cb6d0fe8896row2_col2{\n",
       "            background-color:  #8eb3d5;\n",
       "            color:  #000000;\n",
       "        }#T_0c9fa0b5_0a47_11eb_8c71_9cb6d0fe8896row3_col0,#T_0c9fa0b5_0a47_11eb_8c71_9cb6d0fe8896row3_col1,#T_0c9fa0b5_0a47_11eb_8c71_9cb6d0fe8896row3_col2{\n",
       "            background-color:  #023858;\n",
       "            color:  #f1f1f1;\n",
       "        }</style><table id=\"T_0c9fa0b5_0a47_11eb_8c71_9cb6d0fe8896\" ><thead>    <tr>        <th class=\"index_name level0\" >Survived</th>        <th class=\"col_heading level0 col0\" >0</th>        <th class=\"col_heading level0 col1\" >1</th>        <th class=\"col_heading level0 col2\" >All</th>    </tr>    <tr>        <th class=\"index_name level0\" >Pclass</th>        <th class=\"blank\" ></th>        <th class=\"blank\" ></th>        <th class=\"blank\" ></th>    </tr></thead><tbody>\n",
       "                <tr>\n",
       "                        <th id=\"T_0c9fa0b5_0a47_11eb_8c71_9cb6d0fe8896level0_row0\" class=\"row_heading level0 row0\" >1</th>\n",
       "                        <td id=\"T_0c9fa0b5_0a47_11eb_8c71_9cb6d0fe8896row0_col0\" class=\"data row0 col0\" >80</td>\n",
       "                        <td id=\"T_0c9fa0b5_0a47_11eb_8c71_9cb6d0fe8896row0_col1\" class=\"data row0 col1\" >136</td>\n",
       "                        <td id=\"T_0c9fa0b5_0a47_11eb_8c71_9cb6d0fe8896row0_col2\" class=\"data row0 col2\" >216</td>\n",
       "            </tr>\n",
       "            <tr>\n",
       "                        <th id=\"T_0c9fa0b5_0a47_11eb_8c71_9cb6d0fe8896level0_row1\" class=\"row_heading level0 row1\" >2</th>\n",
       "                        <td id=\"T_0c9fa0b5_0a47_11eb_8c71_9cb6d0fe8896row1_col0\" class=\"data row1 col0\" >97</td>\n",
       "                        <td id=\"T_0c9fa0b5_0a47_11eb_8c71_9cb6d0fe8896row1_col1\" class=\"data row1 col1\" >87</td>\n",
       "                        <td id=\"T_0c9fa0b5_0a47_11eb_8c71_9cb6d0fe8896row1_col2\" class=\"data row1 col2\" >184</td>\n",
       "            </tr>\n",
       "            <tr>\n",
       "                        <th id=\"T_0c9fa0b5_0a47_11eb_8c71_9cb6d0fe8896level0_row2\" class=\"row_heading level0 row2\" >3</th>\n",
       "                        <td id=\"T_0c9fa0b5_0a47_11eb_8c71_9cb6d0fe8896row2_col0\" class=\"data row2 col0\" >372</td>\n",
       "                        <td id=\"T_0c9fa0b5_0a47_11eb_8c71_9cb6d0fe8896row2_col1\" class=\"data row2 col1\" >119</td>\n",
       "                        <td id=\"T_0c9fa0b5_0a47_11eb_8c71_9cb6d0fe8896row2_col2\" class=\"data row2 col2\" >491</td>\n",
       "            </tr>\n",
       "            <tr>\n",
       "                        <th id=\"T_0c9fa0b5_0a47_11eb_8c71_9cb6d0fe8896level0_row3\" class=\"row_heading level0 row3\" >All</th>\n",
       "                        <td id=\"T_0c9fa0b5_0a47_11eb_8c71_9cb6d0fe8896row3_col0\" class=\"data row3 col0\" >549</td>\n",
       "                        <td id=\"T_0c9fa0b5_0a47_11eb_8c71_9cb6d0fe8896row3_col1\" class=\"data row3 col1\" >342</td>\n",
       "                        <td id=\"T_0c9fa0b5_0a47_11eb_8c71_9cb6d0fe8896row3_col2\" class=\"data row3 col2\" >891</td>\n",
       "            </tr>\n",
       "    </tbody></table>"
      ],
      "text/plain": [
       "<pandas.io.formats.style.Styler at 0x18ec9cf39a0>"
      ]
     },
     "execution_count": 187,
     "metadata": {},
     "output_type": "execute_result"
    }
   ],
   "source": [
    "pd.crosstab(train.Pclass, train.Survived, margins=True).style.background_gradient(cmap='PuBu')"
   ]
  },
  {
   "cell_type": "code",
   "execution_count": 188,
   "metadata": {},
   "outputs": [
    {
     "name": "stderr",
     "output_type": "stream",
     "text": [
      "C:\\Users\\alien\\anaconda3\\lib\\site-packages\\seaborn\\_decorators.py:36: FutureWarning: Pass the following variable as a keyword arg: x. From version 0.12, the only valid positional argument will be `data`, and passing other arguments without an explicit keyword will result in an error or misinterpretation.\n",
      "  warnings.warn(\n"
     ]
    },
    {
     "data": {
      "text/plain": [
       "Text(0.5, 1.0, 'Pclass: dead(0) or survived(1)')"
      ]
     },
     "execution_count": 188,
     "metadata": {},
     "output_type": "execute_result"
    },
    {
     "data": {
      "image/png": "[encoded data removed]",
      "text/plain": [
       "<Figure size 1080x360 with 2 Axes>"
      ]
     },
     "metadata": {},
     "output_type": "display_data"
    }
   ],
   "source": [
    "fig, ax = plt.subplots(1,2,figsize=(15,5))\n",
    "\n",
    "sns.countplot(x=\"Pclass\", data=train, ax=ax[0])\n",
    "ax[0].set_title('Number of passengers by Pclass')\n",
    "\n",
    "sns.countplot('Pclass',hue='Survived',data=train, ax=ax[1])\n",
    "ax[1].set_title('Pclass: dead(0) or survived(1)')"
   ]
  },
  {
   "cell_type": "markdown",
   "metadata": {},
   "source": [
    "The passengers of Pclass 3 account for 55% of total passengers. It can be observed that the passengers of Pclass 3 has a lower survival rate, only near 25% passengers survived in Pclass 3. However, the passengers of Plass 1 and 2 has approximately 63% 47% survival rate, respectively."
   ]
  },
  {
   "cell_type": "markdown",
   "metadata": {},
   "source": [
    "#### \"Name\""
   ]
  },
  {
   "cell_type": "markdown",
   "metadata": {},
   "source": [
    "Since Name is string objects, we transfer Name into categorical variable by their title using Regex."
   ]
  },
  {
   "cell_type": "code",
   "execution_count": 189,
   "metadata": {},
   "outputs": [],
   "source": [
    "train['Title'] = 0\n",
    "for i in train:\n",
    "    train['Title']=train.Name.str.extract('([A-Za-z]+)\\.')"
   ]
  },
  {
   "cell_type": "code",
   "execution_count": 190,
   "metadata": {},
   "outputs": [
    {
     "data": {
      "text/plain": [
       "Mr          517\n",
       "Miss        182\n",
       "Mrs         125\n",
       "Master       40\n",
       "Dr            7\n",
       "Rev           6\n",
       "Mlle          2\n",
       "Major         2\n",
       "Col           2\n",
       "Sir           1\n",
       "Jonkheer      1\n",
       "Don           1\n",
       "Lady          1\n",
       "Ms            1\n",
       "Capt          1\n",
       "Mme           1\n",
       "Countess      1\n",
       "Name: Title, dtype: int64"
      ]
     },
     "execution_count": 190,
     "metadata": {},
     "output_type": "execute_result"
    }
   ],
   "source": [
    "train['Title'].value_counts()"
   ]
  },
  {
   "cell_type": "code",
   "execution_count": 191,
   "metadata": {
    "scrolled": true
   },
   "outputs": [
    {
     "data": {
      "text/html": [
       "<style  type=\"text/css\" >\n",
       "#T_0f21dbf5_0a47_11eb_8d54_9cb6d0fe8896row0_col0,#T_0f21dbf5_0a47_11eb_8d54_9cb6d0fe8896row0_col1,#T_0f21dbf5_0a47_11eb_8d54_9cb6d0fe8896row0_col3,#T_0f21dbf5_0a47_11eb_8d54_9cb6d0fe8896row0_col4,#T_0f21dbf5_0a47_11eb_8d54_9cb6d0fe8896row0_col5,#T_0f21dbf5_0a47_11eb_8d54_9cb6d0fe8896row0_col7,#T_0f21dbf5_0a47_11eb_8d54_9cb6d0fe8896row0_col8,#T_0f21dbf5_0a47_11eb_8d54_9cb6d0fe8896row0_col12,#T_0f21dbf5_0a47_11eb_8d54_9cb6d0fe8896row0_col15,#T_0f21dbf5_0a47_11eb_8d54_9cb6d0fe8896row0_col16,#T_0f21dbf5_0a47_11eb_8d54_9cb6d0fe8896row1_col2,#T_0f21dbf5_0a47_11eb_8d54_9cb6d0fe8896row1_col6,#T_0f21dbf5_0a47_11eb_8d54_9cb6d0fe8896row1_col9,#T_0f21dbf5_0a47_11eb_8d54_9cb6d0fe8896row1_col10,#T_0f21dbf5_0a47_11eb_8d54_9cb6d0fe8896row1_col11,#T_0f21dbf5_0a47_11eb_8d54_9cb6d0fe8896row1_col13,#T_0f21dbf5_0a47_11eb_8d54_9cb6d0fe8896row1_col14{\n",
       "            background-color:  #fff7fb;\n",
       "            color:  #000000;\n",
       "        }#T_0f21dbf5_0a47_11eb_8d54_9cb6d0fe8896row0_col2,#T_0f21dbf5_0a47_11eb_8d54_9cb6d0fe8896row0_col6,#T_0f21dbf5_0a47_11eb_8d54_9cb6d0fe8896row0_col9,#T_0f21dbf5_0a47_11eb_8d54_9cb6d0fe8896row0_col10,#T_0f21dbf5_0a47_11eb_8d54_9cb6d0fe8896row0_col11,#T_0f21dbf5_0a47_11eb_8d54_9cb6d0fe8896row0_col13,#T_0f21dbf5_0a47_11eb_8d54_9cb6d0fe8896row0_col14,#T_0f21dbf5_0a47_11eb_8d54_9cb6d0fe8896row1_col0,#T_0f21dbf5_0a47_11eb_8d54_9cb6d0fe8896row1_col1,#T_0f21dbf5_0a47_11eb_8d54_9cb6d0fe8896row1_col3,#T_0f21dbf5_0a47_11eb_8d54_9cb6d0fe8896row1_col4,#T_0f21dbf5_0a47_11eb_8d54_9cb6d0fe8896row1_col5,#T_0f21dbf5_0a47_11eb_8d54_9cb6d0fe8896row1_col7,#T_0f21dbf5_0a47_11eb_8d54_9cb6d0fe8896row1_col8,#T_0f21dbf5_0a47_11eb_8d54_9cb6d0fe8896row1_col12,#T_0f21dbf5_0a47_11eb_8d54_9cb6d0fe8896row1_col15,#T_0f21dbf5_0a47_11eb_8d54_9cb6d0fe8896row1_col16{\n",
       "            background-color:  #023858;\n",
       "            color:  #f1f1f1;\n",
       "        }</style><table id=\"T_0f21dbf5_0a47_11eb_8d54_9cb6d0fe8896\" ><thead>    <tr>        <th class=\"index_name level0\" >Title</th>        <th class=\"col_heading level0 col0\" >Capt</th>        <th class=\"col_heading level0 col1\" >Col</th>        <th class=\"col_heading level0 col2\" >Countess</th>        <th class=\"col_heading level0 col3\" >Don</th>        <th class=\"col_heading level0 col4\" >Dr</th>        <th class=\"col_heading level0 col5\" >Jonkheer</th>        <th class=\"col_heading level0 col6\" >Lady</th>        <th class=\"col_heading level0 col7\" >Major</th>        <th class=\"col_heading level0 col8\" >Master</th>        <th class=\"col_heading level0 col9\" >Miss</th>        <th class=\"col_heading level0 col10\" >Mlle</th>        <th class=\"col_heading level0 col11\" >Mme</th>        <th class=\"col_heading level0 col12\" >Mr</th>        <th class=\"col_heading level0 col13\" >Mrs</th>        <th class=\"col_heading level0 col14\" >Ms</th>        <th class=\"col_heading level0 col15\" >Rev</th>        <th class=\"col_heading level0 col16\" >Sir</th>    </tr>    <tr>        <th class=\"index_name level0\" >Sex</th>        <th class=\"blank\" ></th>        <th class=\"blank\" ></th>        <th class=\"blank\" ></th>        <th class=\"blank\" ></th>        <th class=\"blank\" ></th>        <th class=\"blank\" ></th>        <th class=\"blank\" ></th>        <th class=\"blank\" ></th>        <th class=\"blank\" ></th>        <th class=\"blank\" ></th>        <th class=\"blank\" ></th>        <th class=\"blank\" ></th>        <th class=\"blank\" ></th>        <th class=\"blank\" ></th>        <th class=\"blank\" ></th>        <th class=\"blank\" ></th>        <th class=\"blank\" ></th>    </tr></thead><tbody>\n",
       "                <tr>\n",
       "                        <th id=\"T_0f21dbf5_0a47_11eb_8d54_9cb6d0fe8896level0_row0\" class=\"row_heading level0 row0\" >female</th>\n",
       "                        <td id=\"T_0f21dbf5_0a47_11eb_8d54_9cb6d0fe8896row0_col0\" class=\"data row0 col0\" >0</td>\n",
       "                        <td id=\"T_0f21dbf5_0a47_11eb_8d54_9cb6d0fe8896row0_col1\" class=\"data row0 col1\" >0</td>\n",
       "                        <td id=\"T_0f21dbf5_0a47_11eb_8d54_9cb6d0fe8896row0_col2\" class=\"data row0 col2\" >1</td>\n",
       "                        <td id=\"T_0f21dbf5_0a47_11eb_8d54_9cb6d0fe8896row0_col3\" class=\"data row0 col3\" >0</td>\n",
       "                        <td id=\"T_0f21dbf5_0a47_11eb_8d54_9cb6d0fe8896row0_col4\" class=\"data row0 col4\" >1</td>\n",
       "                        <td id=\"T_0f21dbf5_0a47_11eb_8d54_9cb6d0fe8896row0_col5\" class=\"data row0 col5\" >0</td>\n",
       "                        <td id=\"T_0f21dbf5_0a47_11eb_8d54_9cb6d0fe8896row0_col6\" class=\"data row0 col6\" >1</td>\n",
       "                        <td id=\"T_0f21dbf5_0a47_11eb_8d54_9cb6d0fe8896row0_col7\" class=\"data row0 col7\" >0</td>\n",
       "                        <td id=\"T_0f21dbf5_0a47_11eb_8d54_9cb6d0fe8896row0_col8\" class=\"data row0 col8\" >0</td>\n",
       "                        <td id=\"T_0f21dbf5_0a47_11eb_8d54_9cb6d0fe8896row0_col9\" class=\"data row0 col9\" >182</td>\n",
       "                        <td id=\"T_0f21dbf5_0a47_11eb_8d54_9cb6d0fe8896row0_col10\" class=\"data row0 col10\" >2</td>\n",
       "                        <td id=\"T_0f21dbf5_0a47_11eb_8d54_9cb6d0fe8896row0_col11\" class=\"data row0 col11\" >1</td>\n",
       "                        <td id=\"T_0f21dbf5_0a47_11eb_8d54_9cb6d0fe8896row0_col12\" class=\"data row0 col12\" >0</td>\n",
       "                        <td id=\"T_0f21dbf5_0a47_11eb_8d54_9cb6d0fe8896row0_col13\" class=\"data row0 col13\" >125</td>\n",
       "                        <td id=\"T_0f21dbf5_0a47_11eb_8d54_9cb6d0fe8896row0_col14\" class=\"data row0 col14\" >1</td>\n",
       "                        <td id=\"T_0f21dbf5_0a47_11eb_8d54_9cb6d0fe8896row0_col15\" class=\"data row0 col15\" >0</td>\n",
       "                        <td id=\"T_0f21dbf5_0a47_11eb_8d54_9cb6d0fe8896row0_col16\" class=\"data row0 col16\" >0</td>\n",
       "            </tr>\n",
       "            <tr>\n",
       "                        <th id=\"T_0f21dbf5_0a47_11eb_8d54_9cb6d0fe8896level0_row1\" class=\"row_heading level0 row1\" >male</th>\n",
       "                        <td id=\"T_0f21dbf5_0a47_11eb_8d54_9cb6d0fe8896row1_col0\" class=\"data row1 col0\" >1</td>\n",
       "                        <td id=\"T_0f21dbf5_0a47_11eb_8d54_9cb6d0fe8896row1_col1\" class=\"data row1 col1\" >2</td>\n",
       "                        <td id=\"T_0f21dbf5_0a47_11eb_8d54_9cb6d0fe8896row1_col2\" class=\"data row1 col2\" >0</td>\n",
       "                        <td id=\"T_0f21dbf5_0a47_11eb_8d54_9cb6d0fe8896row1_col3\" class=\"data row1 col3\" >1</td>\n",
       "                        <td id=\"T_0f21dbf5_0a47_11eb_8d54_9cb6d0fe8896row1_col4\" class=\"data row1 col4\" >6</td>\n",
       "                        <td id=\"T_0f21dbf5_0a47_11eb_8d54_9cb6d0fe8896row1_col5\" class=\"data row1 col5\" >1</td>\n",
       "                        <td id=\"T_0f21dbf5_0a47_11eb_8d54_9cb6d0fe8896row1_col6\" class=\"data row1 col6\" >0</td>\n",
       "                        <td id=\"T_0f21dbf5_0a47_11eb_8d54_9cb6d0fe8896row1_col7\" class=\"data row1 col7\" >2</td>\n",
       "                        <td id=\"T_0f21dbf5_0a47_11eb_8d54_9cb6d0fe8896row1_col8\" class=\"data row1 col8\" >40</td>\n",
       "                        <td id=\"T_0f21dbf5_0a47_11eb_8d54_9cb6d0fe8896row1_col9\" class=\"data row1 col9\" >0</td>\n",
       "                        <td id=\"T_0f21dbf5_0a47_11eb_8d54_9cb6d0fe8896row1_col10\" class=\"data row1 col10\" >0</td>\n",
       "                        <td id=\"T_0f21dbf5_0a47_11eb_8d54_9cb6d0fe8896row1_col11\" class=\"data row1 col11\" >0</td>\n",
       "                        <td id=\"T_0f21dbf5_0a47_11eb_8d54_9cb6d0fe8896row1_col12\" class=\"data row1 col12\" >517</td>\n",
       "                        <td id=\"T_0f21dbf5_0a47_11eb_8d54_9cb6d0fe8896row1_col13\" class=\"data row1 col13\" >0</td>\n",
       "                        <td id=\"T_0f21dbf5_0a47_11eb_8d54_9cb6d0fe8896row1_col14\" class=\"data row1 col14\" >0</td>\n",
       "                        <td id=\"T_0f21dbf5_0a47_11eb_8d54_9cb6d0fe8896row1_col15\" class=\"data row1 col15\" >6</td>\n",
       "                        <td id=\"T_0f21dbf5_0a47_11eb_8d54_9cb6d0fe8896row1_col16\" class=\"data row1 col16\" >1</td>\n",
       "            </tr>\n",
       "    </tbody></table>"
      ],
      "text/plain": [
       "<pandas.io.formats.style.Styler at 0x18edb9115b0>"
      ]
     },
     "execution_count": 191,
     "metadata": {},
     "output_type": "execute_result"
    }
   ],
   "source": [
    "pd.crosstab(train.Sex, train.Title).style.background_gradient(cmap='PuBu') "
   ]
  },
  {
   "cell_type": "markdown",
   "metadata": {},
   "source": [
    "Some title has different name but same maeaning, so we change salutations to one with the same meaning.\n",
    "1. The title \"Capt\", \"Don\", \"Dr\", \"Major\", \"Sir\" to \"Mr\"\n",
    "2. The title \"Countess\", \"Lady\" to \"Mrs\"\n",
    "3. The title \"Mlle\", \"Mme\", \"Ms\" to \"Miss\"\n",
    "4. The title \"Col\", \"Jonkheer\", \"Rev\" to \"Other\""
   ]
  },
  {
   "cell_type": "code",
   "execution_count": 192,
   "metadata": {},
   "outputs": [],
   "source": [
    "train[\"Title\"].replace([\"Capt\", \"Don\", \"Dr\", \"Major\", \"Sir\", \"Countess\", \"Lady\", \"Mlle\", \"Mme\", \"Ms\", \"Col\", \"Jonkheer\", \"Rev\"],\n",
    "                       [\"Mr\", \"Mr\", \"Mr\", \"Mr\", \"Mr\", \"Mrs\", \"Mrs\", \"Miss\", \"Miss\", \"Miss\", \"Other\", \"Other\", \"Other\"], \n",
    "                       inplace=True)"
   ]
  },
  {
   "cell_type": "code",
   "execution_count": 193,
   "metadata": {},
   "outputs": [
    {
     "data": {
      "text/plain": [
       "Mr        529\n",
       "Miss      186\n",
       "Mrs       127\n",
       "Master     40\n",
       "Other       9\n",
       "Name: Title, dtype: int64"
      ]
     },
     "execution_count": 193,
     "metadata": {},
     "output_type": "execute_result"
    }
   ],
   "source": [
    "train['Title'].value_counts()"
   ]
  },
  {
   "cell_type": "markdown",
   "metadata": {},
   "source": [
    "#### \"Sex\" (categorical feature)"
   ]
  },
  {
   "cell_type": "code",
   "execution_count": 194,
   "metadata": {},
   "outputs": [
    {
     "data": {
      "text/html": [
       "<style  type=\"text/css\" >\n",
       "#T_121dd5ee_0a47_11eb_be3d_9cb6d0fe8896row0_col0,#T_121dd5ee_0a47_11eb_be3d_9cb6d0fe8896row0_col2,#T_121dd5ee_0a47_11eb_be3d_9cb6d0fe8896row1_col1{\n",
       "            background-color:  #fff7fb;\n",
       "            color:  #000000;\n",
       "        }#T_121dd5ee_0a47_11eb_be3d_9cb6d0fe8896row0_col1{\n",
       "            background-color:  #63a2cb;\n",
       "            color:  #000000;\n",
       "        }#T_121dd5ee_0a47_11eb_be3d_9cb6d0fe8896row1_col0{\n",
       "            background-color:  #04629a;\n",
       "            color:  #f1f1f1;\n",
       "        }#T_121dd5ee_0a47_11eb_be3d_9cb6d0fe8896row1_col2{\n",
       "            background-color:  #86b0d3;\n",
       "            color:  #000000;\n",
       "        }#T_121dd5ee_0a47_11eb_be3d_9cb6d0fe8896row2_col0,#T_121dd5ee_0a47_11eb_be3d_9cb6d0fe8896row2_col1,#T_121dd5ee_0a47_11eb_be3d_9cb6d0fe8896row2_col2{\n",
       "            background-color:  #023858;\n",
       "            color:  #f1f1f1;\n",
       "        }</style><table id=\"T_121dd5ee_0a47_11eb_be3d_9cb6d0fe8896\" ><thead>    <tr>        <th class=\"index_name level0\" >Survived</th>        <th class=\"col_heading level0 col0\" >0</th>        <th class=\"col_heading level0 col1\" >1</th>        <th class=\"col_heading level0 col2\" >All</th>    </tr>    <tr>        <th class=\"index_name level0\" >Sex</th>        <th class=\"blank\" ></th>        <th class=\"blank\" ></th>        <th class=\"blank\" ></th>    </tr></thead><tbody>\n",
       "                <tr>\n",
       "                        <th id=\"T_121dd5ee_0a47_11eb_be3d_9cb6d0fe8896level0_row0\" class=\"row_heading level0 row0\" >female</th>\n",
       "                        <td id=\"T_121dd5ee_0a47_11eb_be3d_9cb6d0fe8896row0_col0\" class=\"data row0 col0\" >81</td>\n",
       "                        <td id=\"T_121dd5ee_0a47_11eb_be3d_9cb6d0fe8896row0_col1\" class=\"data row0 col1\" >233</td>\n",
       "                        <td id=\"T_121dd5ee_0a47_11eb_be3d_9cb6d0fe8896row0_col2\" class=\"data row0 col2\" >314</td>\n",
       "            </tr>\n",
       "            <tr>\n",
       "                        <th id=\"T_121dd5ee_0a47_11eb_be3d_9cb6d0fe8896level0_row1\" class=\"row_heading level0 row1\" >male</th>\n",
       "                        <td id=\"T_121dd5ee_0a47_11eb_be3d_9cb6d0fe8896row1_col0\" class=\"data row1 col0\" >468</td>\n",
       "                        <td id=\"T_121dd5ee_0a47_11eb_be3d_9cb6d0fe8896row1_col1\" class=\"data row1 col1\" >109</td>\n",
       "                        <td id=\"T_121dd5ee_0a47_11eb_be3d_9cb6d0fe8896row1_col2\" class=\"data row1 col2\" >577</td>\n",
       "            </tr>\n",
       "            <tr>\n",
       "                        <th id=\"T_121dd5ee_0a47_11eb_be3d_9cb6d0fe8896level0_row2\" class=\"row_heading level0 row2\" >All</th>\n",
       "                        <td id=\"T_121dd5ee_0a47_11eb_be3d_9cb6d0fe8896row2_col0\" class=\"data row2 col0\" >549</td>\n",
       "                        <td id=\"T_121dd5ee_0a47_11eb_be3d_9cb6d0fe8896row2_col1\" class=\"data row2 col1\" >342</td>\n",
       "                        <td id=\"T_121dd5ee_0a47_11eb_be3d_9cb6d0fe8896row2_col2\" class=\"data row2 col2\" >891</td>\n",
       "            </tr>\n",
       "    </tbody></table>"
      ],
      "text/plain": [
       "<pandas.io.formats.style.Styler at 0x18ed79313d0>"
      ]
     },
     "execution_count": 194,
     "metadata": {},
     "output_type": "execute_result"
    }
   ],
   "source": [
    "pd.crosstab(train.Sex, train.Survived, margins=True).style.background_gradient(cmap='PuBu')"
   ]
  },
  {
   "cell_type": "code",
   "execution_count": 195,
   "metadata": {},
   "outputs": [
    {
     "name": "stderr",
     "output_type": "stream",
     "text": [
      "C:\\Users\\alien\\anaconda3\\lib\\site-packages\\seaborn\\_decorators.py:36: FutureWarning: Pass the following variable as a keyword arg: x. From version 0.12, the only valid positional argument will be `data`, and passing other arguments without an explicit keyword will result in an error or misinterpretation.\n",
      "  warnings.warn(\n"
     ]
    },
    {
     "data": {
      "text/plain": [
       "Text(0.5, 1.0, 'Sex: dead(0) or survived(1)')"
      ]
     },
     "execution_count": 195,
     "metadata": {},
     "output_type": "execute_result"
    },
    {
     "data": {
      "image/png": "[encoded data removed]",
      "text/plain": [
       "<Figure size 1080x360 with 2 Axes>"
      ]
     },
     "metadata": {},
     "output_type": "display_data"
    }
   ],
   "source": [
    "fig, ax = plt.subplots(1,2,figsize=(15,5))\n",
    "\n",
    "sns.countplot(x=\"Sex\", data=train, ax=ax[0])\n",
    "ax[0].set_title('Number of passengers by Sex')\n",
    "\n",
    "sns.countplot('Sex',hue='Survived',data=train, ax=ax[1])\n",
    "ax[1].set_title('Sex: dead(0) or survived(1)')"
   ]
  },
  {
   "cell_type": "markdown",
   "metadata": {},
   "source": [
    "Although male make up a larger proportion of the passengers (about 65%), the survival rate of female passengers is much higher than that of male passengers (74% vs. 19%). This is due to rescue policy of giving priority to children and female. \n",
    "\n",
    "Next, we examine the survival rate of Sex and Pclass simultaneously​."
   ]
  },
  {
   "cell_type": "code",
   "execution_count": 196,
   "metadata": {},
   "outputs": [
    {
     "data": {
      "text/html": [
       "<style  type=\"text/css\" >\n",
       "#T_13343fda_0a47_11eb_82ac_9cb6d0fe8896row0_col0,#T_13343fda_0a47_11eb_82ac_9cb6d0fe8896row0_col1,#T_13343fda_0a47_11eb_82ac_9cb6d0fe8896row0_col3,#T_13343fda_0a47_11eb_82ac_9cb6d0fe8896row3_col2{\n",
       "            background-color:  #fff7fb;\n",
       "            color:  #000000;\n",
       "        }#T_13343fda_0a47_11eb_82ac_9cb6d0fe8896row0_col2,#T_13343fda_0a47_11eb_82ac_9cb6d0fe8896row1_col2{\n",
       "            background-color:  #f7f0f7;\n",
       "            color:  #000000;\n",
       "        }#T_13343fda_0a47_11eb_82ac_9cb6d0fe8896row1_col0{\n",
       "            background-color:  #97b7d7;\n",
       "            color:  #000000;\n",
       "        }#T_13343fda_0a47_11eb_82ac_9cb6d0fe8896row1_col1{\n",
       "            background-color:  #abbfdc;\n",
       "            color:  #000000;\n",
       "        }#T_13343fda_0a47_11eb_82ac_9cb6d0fe8896row1_col3{\n",
       "            background-color:  #dedcec;\n",
       "            color:  #000000;\n",
       "        }#T_13343fda_0a47_11eb_82ac_9cb6d0fe8896row2_col0{\n",
       "            background-color:  #b0c2de;\n",
       "            color:  #000000;\n",
       "        }#T_13343fda_0a47_11eb_82ac_9cb6d0fe8896row2_col1,#T_13343fda_0a47_11eb_82ac_9cb6d0fe8896row2_col3{\n",
       "            background-color:  #7dacd1;\n",
       "            color:  #000000;\n",
       "        }#T_13343fda_0a47_11eb_82ac_9cb6d0fe8896row2_col2{\n",
       "            background-color:  #529bc7;\n",
       "            color:  #000000;\n",
       "        }#T_13343fda_0a47_11eb_82ac_9cb6d0fe8896row3_col0{\n",
       "            background-color:  #dcdaeb;\n",
       "            color:  #000000;\n",
       "        }#T_13343fda_0a47_11eb_82ac_9cb6d0fe8896row3_col1{\n",
       "            background-color:  #f6eff7;\n",
       "            color:  #000000;\n",
       "        }#T_13343fda_0a47_11eb_82ac_9cb6d0fe8896row3_col3{\n",
       "            background-color:  #faf3f9;\n",
       "            color:  #000000;\n",
       "        }#T_13343fda_0a47_11eb_82ac_9cb6d0fe8896row4_col0,#T_13343fda_0a47_11eb_82ac_9cb6d0fe8896row4_col1,#T_13343fda_0a47_11eb_82ac_9cb6d0fe8896row4_col2,#T_13343fda_0a47_11eb_82ac_9cb6d0fe8896row4_col3{\n",
       "            background-color:  #023858;\n",
       "            color:  #f1f1f1;\n",
       "        }</style><table id=\"T_13343fda_0a47_11eb_82ac_9cb6d0fe8896\" ><thead>    <tr>        <th class=\"blank\" ></th>        <th class=\"index_name level0\" >Pclass</th>        <th class=\"col_heading level0 col0\" >1</th>        <th class=\"col_heading level0 col1\" >2</th>        <th class=\"col_heading level0 col2\" >3</th>        <th class=\"col_heading level0 col3\" >All</th>    </tr>    <tr>        <th class=\"index_name level0\" >Sex</th>        <th class=\"index_name level1\" >Survived</th>        <th class=\"blank\" ></th>        <th class=\"blank\" ></th>        <th class=\"blank\" ></th>        <th class=\"blank\" ></th>    </tr></thead><tbody>\n",
       "                <tr>\n",
       "                        <th id=\"T_13343fda_0a47_11eb_82ac_9cb6d0fe8896level0_row0\" class=\"row_heading level0 row0\" rowspan=2>female</th>\n",
       "                        <th id=\"T_13343fda_0a47_11eb_82ac_9cb6d0fe8896level1_row0\" class=\"row_heading level1 row0\" >0</th>\n",
       "                        <td id=\"T_13343fda_0a47_11eb_82ac_9cb6d0fe8896row0_col0\" class=\"data row0 col0\" >3</td>\n",
       "                        <td id=\"T_13343fda_0a47_11eb_82ac_9cb6d0fe8896row0_col1\" class=\"data row0 col1\" >6</td>\n",
       "                        <td id=\"T_13343fda_0a47_11eb_82ac_9cb6d0fe8896row0_col2\" class=\"data row0 col2\" >72</td>\n",
       "                        <td id=\"T_13343fda_0a47_11eb_82ac_9cb6d0fe8896row0_col3\" class=\"data row0 col3\" >81</td>\n",
       "            </tr>\n",
       "            <tr>\n",
       "                                <th id=\"T_13343fda_0a47_11eb_82ac_9cb6d0fe8896level1_row1\" class=\"row_heading level1 row1\" >1</th>\n",
       "                        <td id=\"T_13343fda_0a47_11eb_82ac_9cb6d0fe8896row1_col0\" class=\"data row1 col0\" >91</td>\n",
       "                        <td id=\"T_13343fda_0a47_11eb_82ac_9cb6d0fe8896row1_col1\" class=\"data row1 col1\" >70</td>\n",
       "                        <td id=\"T_13343fda_0a47_11eb_82ac_9cb6d0fe8896row1_col2\" class=\"data row1 col2\" >72</td>\n",
       "                        <td id=\"T_13343fda_0a47_11eb_82ac_9cb6d0fe8896row1_col3\" class=\"data row1 col3\" >233</td>\n",
       "            </tr>\n",
       "            <tr>\n",
       "                        <th id=\"T_13343fda_0a47_11eb_82ac_9cb6d0fe8896level0_row2\" class=\"row_heading level0 row2\" rowspan=2>male</th>\n",
       "                        <th id=\"T_13343fda_0a47_11eb_82ac_9cb6d0fe8896level1_row2\" class=\"row_heading level1 row2\" >0</th>\n",
       "                        <td id=\"T_13343fda_0a47_11eb_82ac_9cb6d0fe8896row2_col0\" class=\"data row2 col0\" >77</td>\n",
       "                        <td id=\"T_13343fda_0a47_11eb_82ac_9cb6d0fe8896row2_col1\" class=\"data row2 col1\" >91</td>\n",
       "                        <td id=\"T_13343fda_0a47_11eb_82ac_9cb6d0fe8896row2_col2\" class=\"data row2 col2\" >300</td>\n",
       "                        <td id=\"T_13343fda_0a47_11eb_82ac_9cb6d0fe8896row2_col3\" class=\"data row2 col3\" >468</td>\n",
       "            </tr>\n",
       "            <tr>\n",
       "                                <th id=\"T_13343fda_0a47_11eb_82ac_9cb6d0fe8896level1_row3\" class=\"row_heading level1 row3\" >1</th>\n",
       "                        <td id=\"T_13343fda_0a47_11eb_82ac_9cb6d0fe8896row3_col0\" class=\"data row3 col0\" >45</td>\n",
       "                        <td id=\"T_13343fda_0a47_11eb_82ac_9cb6d0fe8896row3_col1\" class=\"data row3 col1\" >17</td>\n",
       "                        <td id=\"T_13343fda_0a47_11eb_82ac_9cb6d0fe8896row3_col2\" class=\"data row3 col2\" >47</td>\n",
       "                        <td id=\"T_13343fda_0a47_11eb_82ac_9cb6d0fe8896row3_col3\" class=\"data row3 col3\" >109</td>\n",
       "            </tr>\n",
       "            <tr>\n",
       "                        <th id=\"T_13343fda_0a47_11eb_82ac_9cb6d0fe8896level0_row4\" class=\"row_heading level0 row4\" >All</th>\n",
       "                        <th id=\"T_13343fda_0a47_11eb_82ac_9cb6d0fe8896level1_row4\" class=\"row_heading level1 row4\" ></th>\n",
       "                        <td id=\"T_13343fda_0a47_11eb_82ac_9cb6d0fe8896row4_col0\" class=\"data row4 col0\" >216</td>\n",
       "                        <td id=\"T_13343fda_0a47_11eb_82ac_9cb6d0fe8896row4_col1\" class=\"data row4 col1\" >184</td>\n",
       "                        <td id=\"T_13343fda_0a47_11eb_82ac_9cb6d0fe8896row4_col2\" class=\"data row4 col2\" >491</td>\n",
       "                        <td id=\"T_13343fda_0a47_11eb_82ac_9cb6d0fe8896row4_col3\" class=\"data row4 col3\" >891</td>\n",
       "            </tr>\n",
       "    </tbody></table>"
      ],
      "text/plain": [
       "<pandas.io.formats.style.Styler at 0x18edcfaa880>"
      ]
     },
     "execution_count": 196,
     "metadata": {},
     "output_type": "execute_result"
    }
   ],
   "source": [
    "pd.crosstab([train.Sex, train.Survived], train.Pclass, margins=True).style.background_gradient(cmap='PuBu')"
   ]
  },
  {
   "cell_type": "code",
   "execution_count": 311,
   "metadata": {},
   "outputs": [
    {
     "name": "stderr",
     "output_type": "stream",
     "text": [
      "C:\\Users\\alien\\anaconda3\\lib\\site-packages\\seaborn\\categorical.py:3704: UserWarning: The `factorplot` function has been renamed to `catplot`. The original name will be removed in a future release. Please update your code. Note that the default `kind` in `factorplot` (`'point'`) has changed `'strip'` in `catplot`.\n",
      "  warnings.warn(msg)\n",
      "C:\\Users\\alien\\anaconda3\\lib\\site-packages\\seaborn\\_decorators.py:36: FutureWarning: Pass the following variables as keyword args: x, y. From version 0.12, the only valid positional argument will be `data`, and passing other arguments without an explicit keyword will result in an error or misinterpretation.\n",
      "  warnings.warn(\n"
     ]
    },
    {
     "data": {
      "text/plain": [
       "<seaborn.axisgrid.FacetGrid at 0x18ee665f0a0>"
      ]
     },
     "execution_count": 311,
     "metadata": {},
     "output_type": "execute_result"
    },
    {
     "data": {
      "text/plain": [
       "<Figure size 360x288 with 0 Axes>"
      ]
     },
     "metadata": {},
     "output_type": "display_data"
    },
    {
     "data": {
      "image/png": "[encoded data removed]",
      "text/plain": [
       "<Figure size 426.125x360 with 1 Axes>"
      ]
     },
     "metadata": {},
     "output_type": "display_data"
    }
   ],
   "source": [
    "plt.figure(figsize=(5, 4))\n",
    "sns.factorplot('Pclass','Survived',hue='Sex',data=train)"
   ]
  },
  {
   "cell_type": "markdown",
   "metadata": {},
   "source": [
    "From the FactorPlot, it can be observed that female have a higher survival rate than male in each Pclass. In the case of female, the survival rate of Pclass 1 and 2 (both higher than 90%) is much higher than Pclass 3 (only 50%). Female has a lower survival rate in Pclass 3. In terms of male, male in Pclass 1 has higher survival rate."
   ]
  },
  {
   "cell_type": "markdown",
   "metadata": {},
   "source": [
    "#### \"Age\" (continuous feature)"
   ]
  },
  {
   "cell_type": "markdown",
   "metadata": {},
   "source": [
    "The Age has 177 null vlues. Firstly, we covert these null values to appropriate values instead. It seems appropriate to use the average age of the title in place of these null values."
   ]
  },
  {
   "cell_type": "code",
   "execution_count": 198,
   "metadata": {},
   "outputs": [
    {
     "data": {
      "text/plain": [
       "Title\n",
       "Master     5.0\n",
       "Miss      22.0\n",
       "Mr        33.0\n",
       "Mrs       36.0\n",
       "Other     46.0\n",
       "Name: Age, dtype: float64"
      ]
     },
     "execution_count": 198,
     "metadata": {},
     "output_type": "execute_result"
    }
   ],
   "source": [
    "train.groupby('Title')['Age'].mean().round()"
   ]
  },
  {
   "cell_type": "code",
   "execution_count": 199,
   "metadata": {},
   "outputs": [],
   "source": [
    "train.loc[(train.Age.isnull()) & (train.Title=='Master'), 'Age'] = 5\n",
    "train.loc[(train.Age.isnull()) & (train.Title=='Miss'), 'Age'] = 22\n",
    "train.loc[(train.Age.isnull()) & (train.Title=='Mr'), 'Age'] = 33\n",
    "train.loc[(train.Age.isnull()) & (train.Title=='Mrs'), 'Age'] = 36\n",
    "train.loc[(train.Age.isnull()) & (train.Title=='Other'), 'Age'] = 46"
   ]
  },
  {
   "cell_type": "code",
   "execution_count": 200,
   "metadata": {},
   "outputs": [
    {
     "data": {
      "text/plain": [
       "PassengerId      0\n",
       "Survived         0\n",
       "Pclass           0\n",
       "Name             0\n",
       "Sex              0\n",
       "Age              0\n",
       "SibSp            0\n",
       "Parch            0\n",
       "Ticket           0\n",
       "Fare             0\n",
       "Cabin          687\n",
       "Embarked         2\n",
       "Title            0\n",
       "dtype: int64"
      ]
     },
     "execution_count": 200,
     "metadata": {},
     "output_type": "execute_result"
    }
   ],
   "source": [
    "train.isnull().sum()"
   ]
  },
  {
   "cell_type": "code",
   "execution_count": 201,
   "metadata": {
    "scrolled": false
   },
   "outputs": [
    {
     "data": {
      "text/plain": [
       "<seaborn.axisgrid.FacetGrid at 0x18edea12a30>"
      ]
     },
     "execution_count": 201,
     "metadata": {},
     "output_type": "execute_result"
    },
    {
     "data": {
      "image/png": "[encoded data removed]",
      "text/plain": [
       "<Figure size 407x360 with 1 Axes>"
      ]
     },
     "metadata": {},
     "output_type": "display_data"
    }
   ],
   "source": [
    "sns.displot(train, x=\"Age\", hue=\"Survived\", kde=True, bins=20)"
   ]
  },
  {
   "cell_type": "markdown",
   "metadata": {},
   "source": [
    "It can be found that children whose age below 10 has higher survival rate. Contrastly, the passengers whose age between 30 and 40 has higher death rate."
   ]
  },
  {
   "cell_type": "markdown",
   "metadata": {},
   "source": [
    "#### SibSip (discrete feature)"
   ]
  },
  {
   "cell_type": "code",
   "execution_count": 202,
   "metadata": {},
   "outputs": [
    {
     "data": {
      "text/html": [
       "<style  type=\"text/css\" >\n",
       "#T_1b826f1f_0a47_11eb_8f0a_9cb6d0fe8896row0_col0{\n",
       "            background-color:  #1077b4;\n",
       "            color:  #f1f1f1;\n",
       "        }#T_1b826f1f_0a47_11eb_8f0a_9cb6d0fe8896row0_col1{\n",
       "            background-color:  #3b92c1;\n",
       "            color:  #000000;\n",
       "        }#T_1b826f1f_0a47_11eb_8f0a_9cb6d0fe8896row0_col2{\n",
       "            background-color:  #2081b9;\n",
       "            color:  #000000;\n",
       "        }#T_1b826f1f_0a47_11eb_8f0a_9cb6d0fe8896row1_col0{\n",
       "            background-color:  #e2dfee;\n",
       "            color:  #000000;\n",
       "        }#T_1b826f1f_0a47_11eb_8f0a_9cb6d0fe8896row1_col1{\n",
       "            background-color:  #b7c5df;\n",
       "            color:  #000000;\n",
       "        }#T_1b826f1f_0a47_11eb_8f0a_9cb6d0fe8896row1_col2{\n",
       "            background-color:  #d5d5e8;\n",
       "            color:  #000000;\n",
       "        }#T_1b826f1f_0a47_11eb_8f0a_9cb6d0fe8896row2_col0,#T_1b826f1f_0a47_11eb_8f0a_9cb6d0fe8896row3_col0,#T_1b826f1f_0a47_11eb_8f0a_9cb6d0fe8896row3_col2,#T_1b826f1f_0a47_11eb_8f0a_9cb6d0fe8896row4_col0,#T_1b826f1f_0a47_11eb_8f0a_9cb6d0fe8896row4_col2{\n",
       "            background-color:  #fdf5fa;\n",
       "            color:  #000000;\n",
       "        }#T_1b826f1f_0a47_11eb_8f0a_9cb6d0fe8896row2_col1{\n",
       "            background-color:  #faf2f8;\n",
       "            color:  #000000;\n",
       "        }#T_1b826f1f_0a47_11eb_8f0a_9cb6d0fe8896row2_col2{\n",
       "            background-color:  #fbf4f9;\n",
       "            color:  #000000;\n",
       "        }#T_1b826f1f_0a47_11eb_8f0a_9cb6d0fe8896row3_col1,#T_1b826f1f_0a47_11eb_8f0a_9cb6d0fe8896row4_col1{\n",
       "            background-color:  #fef6fa;\n",
       "            color:  #000000;\n",
       "        }#T_1b826f1f_0a47_11eb_8f0a_9cb6d0fe8896row5_col0,#T_1b826f1f_0a47_11eb_8f0a_9cb6d0fe8896row5_col1,#T_1b826f1f_0a47_11eb_8f0a_9cb6d0fe8896row5_col2,#T_1b826f1f_0a47_11eb_8f0a_9cb6d0fe8896row6_col0,#T_1b826f1f_0a47_11eb_8f0a_9cb6d0fe8896row6_col1,#T_1b826f1f_0a47_11eb_8f0a_9cb6d0fe8896row6_col2{\n",
       "            background-color:  #fff7fb;\n",
       "            color:  #000000;\n",
       "        }#T_1b826f1f_0a47_11eb_8f0a_9cb6d0fe8896row7_col0,#T_1b826f1f_0a47_11eb_8f0a_9cb6d0fe8896row7_col1,#T_1b826f1f_0a47_11eb_8f0a_9cb6d0fe8896row7_col2{\n",
       "            background-color:  #023858;\n",
       "            color:  #f1f1f1;\n",
       "        }</style><table id=\"T_1b826f1f_0a47_11eb_8f0a_9cb6d0fe8896\" ><thead>    <tr>        <th class=\"index_name level0\" >Survived</th>        <th class=\"col_heading level0 col0\" >0</th>        <th class=\"col_heading level0 col1\" >1</th>        <th class=\"col_heading level0 col2\" >All</th>    </tr>    <tr>        <th class=\"index_name level0\" >SibSp</th>        <th class=\"blank\" ></th>        <th class=\"blank\" ></th>        <th class=\"blank\" ></th>    </tr></thead><tbody>\n",
       "                <tr>\n",
       "                        <th id=\"T_1b826f1f_0a47_11eb_8f0a_9cb6d0fe8896level0_row0\" class=\"row_heading level0 row0\" >0</th>\n",
       "                        <td id=\"T_1b826f1f_0a47_11eb_8f0a_9cb6d0fe8896row0_col0\" class=\"data row0 col0\" >398</td>\n",
       "                        <td id=\"T_1b826f1f_0a47_11eb_8f0a_9cb6d0fe8896row0_col1\" class=\"data row0 col1\" >210</td>\n",
       "                        <td id=\"T_1b826f1f_0a47_11eb_8f0a_9cb6d0fe8896row0_col2\" class=\"data row0 col2\" >608</td>\n",
       "            </tr>\n",
       "            <tr>\n",
       "                        <th id=\"T_1b826f1f_0a47_11eb_8f0a_9cb6d0fe8896level0_row1\" class=\"row_heading level0 row1\" >1</th>\n",
       "                        <td id=\"T_1b826f1f_0a47_11eb_8f0a_9cb6d0fe8896row1_col0\" class=\"data row1 col0\" >97</td>\n",
       "                        <td id=\"T_1b826f1f_0a47_11eb_8f0a_9cb6d0fe8896row1_col1\" class=\"data row1 col1\" >112</td>\n",
       "                        <td id=\"T_1b826f1f_0a47_11eb_8f0a_9cb6d0fe8896row1_col2\" class=\"data row1 col2\" >209</td>\n",
       "            </tr>\n",
       "            <tr>\n",
       "                        <th id=\"T_1b826f1f_0a47_11eb_8f0a_9cb6d0fe8896level0_row2\" class=\"row_heading level0 row2\" >2</th>\n",
       "                        <td id=\"T_1b826f1f_0a47_11eb_8f0a_9cb6d0fe8896row2_col0\" class=\"data row2 col0\" >15</td>\n",
       "                        <td id=\"T_1b826f1f_0a47_11eb_8f0a_9cb6d0fe8896row2_col1\" class=\"data row2 col1\" >13</td>\n",
       "                        <td id=\"T_1b826f1f_0a47_11eb_8f0a_9cb6d0fe8896row2_col2\" class=\"data row2 col2\" >28</td>\n",
       "            </tr>\n",
       "            <tr>\n",
       "                        <th id=\"T_1b826f1f_0a47_11eb_8f0a_9cb6d0fe8896level0_row3\" class=\"row_heading level0 row3\" >3</th>\n",
       "                        <td id=\"T_1b826f1f_0a47_11eb_8f0a_9cb6d0fe8896row3_col0\" class=\"data row3 col0\" >12</td>\n",
       "                        <td id=\"T_1b826f1f_0a47_11eb_8f0a_9cb6d0fe8896row3_col1\" class=\"data row3 col1\" >4</td>\n",
       "                        <td id=\"T_1b826f1f_0a47_11eb_8f0a_9cb6d0fe8896row3_col2\" class=\"data row3 col2\" >16</td>\n",
       "            </tr>\n",
       "            <tr>\n",
       "                        <th id=\"T_1b826f1f_0a47_11eb_8f0a_9cb6d0fe8896level0_row4\" class=\"row_heading level0 row4\" >4</th>\n",
       "                        <td id=\"T_1b826f1f_0a47_11eb_8f0a_9cb6d0fe8896row4_col0\" class=\"data row4 col0\" >15</td>\n",
       "                        <td id=\"T_1b826f1f_0a47_11eb_8f0a_9cb6d0fe8896row4_col1\" class=\"data row4 col1\" >3</td>\n",
       "                        <td id=\"T_1b826f1f_0a47_11eb_8f0a_9cb6d0fe8896row4_col2\" class=\"data row4 col2\" >18</td>\n",
       "            </tr>\n",
       "            <tr>\n",
       "                        <th id=\"T_1b826f1f_0a47_11eb_8f0a_9cb6d0fe8896level0_row5\" class=\"row_heading level0 row5\" >5</th>\n",
       "                        <td id=\"T_1b826f1f_0a47_11eb_8f0a_9cb6d0fe8896row5_col0\" class=\"data row5 col0\" >5</td>\n",
       "                        <td id=\"T_1b826f1f_0a47_11eb_8f0a_9cb6d0fe8896row5_col1\" class=\"data row5 col1\" >0</td>\n",
       "                        <td id=\"T_1b826f1f_0a47_11eb_8f0a_9cb6d0fe8896row5_col2\" class=\"data row5 col2\" >5</td>\n",
       "            </tr>\n",
       "            <tr>\n",
       "                        <th id=\"T_1b826f1f_0a47_11eb_8f0a_9cb6d0fe8896level0_row6\" class=\"row_heading level0 row6\" >8</th>\n",
       "                        <td id=\"T_1b826f1f_0a47_11eb_8f0a_9cb6d0fe8896row6_col0\" class=\"data row6 col0\" >7</td>\n",
       "                        <td id=\"T_1b826f1f_0a47_11eb_8f0a_9cb6d0fe8896row6_col1\" class=\"data row6 col1\" >0</td>\n",
       "                        <td id=\"T_1b826f1f_0a47_11eb_8f0a_9cb6d0fe8896row6_col2\" class=\"data row6 col2\" >7</td>\n",
       "            </tr>\n",
       "            <tr>\n",
       "                        <th id=\"T_1b826f1f_0a47_11eb_8f0a_9cb6d0fe8896level0_row7\" class=\"row_heading level0 row7\" >All</th>\n",
       "                        <td id=\"T_1b826f1f_0a47_11eb_8f0a_9cb6d0fe8896row7_col0\" class=\"data row7 col0\" >549</td>\n",
       "                        <td id=\"T_1b826f1f_0a47_11eb_8f0a_9cb6d0fe8896row7_col1\" class=\"data row7 col1\" >342</td>\n",
       "                        <td id=\"T_1b826f1f_0a47_11eb_8f0a_9cb6d0fe8896row7_col2\" class=\"data row7 col2\" >891</td>\n",
       "            </tr>\n",
       "    </tbody></table>"
      ],
      "text/plain": [
       "<pandas.io.formats.style.Styler at 0x18ed9d0e250>"
      ]
     },
     "execution_count": 202,
     "metadata": {},
     "output_type": "execute_result"
    }
   ],
   "source": [
    "pd.crosstab(train.SibSp, train.Survived, margins=True).style.background_gradient(cmap='PuBu')"
   ]
  },
  {
   "cell_type": "code",
   "execution_count": 203,
   "metadata": {},
   "outputs": [
    {
     "name": "stderr",
     "output_type": "stream",
     "text": [
      "C:\\Users\\alien\\anaconda3\\lib\\site-packages\\seaborn\\_decorators.py:36: FutureWarning: Pass the following variables as keyword args: x, y. From version 0.12, the only valid positional argument will be `data`, and passing other arguments without an explicit keyword will result in an error or misinterpretation.\n",
      "  warnings.warn(\n"
     ]
    },
    {
     "data": {
      "text/plain": [
       "Text(0.5, 1.0, 'SibSp vs. Survived')"
      ]
     },
     "execution_count": 203,
     "metadata": {},
     "output_type": "execute_result"
    },
    {
     "data": {
      "image/png": "[encoded data removed]",
      "text/plain": [
       "<Figure size 576x396 with 1 Axes>"
      ]
     },
     "metadata": {},
     "output_type": "display_data"
    }
   ],
   "source": [
    "sns.barplot('SibSp','Survived', data=train)\n",
    "plt.title(\"SibSp vs. Survived\")"
   ]
  },
  {
   "cell_type": "markdown",
   "metadata": {},
   "source": [
    "The passengers has 1 or 2 sibling or spouse have higher survival rate. This may be because they can help each other. The number of sibling and spouse greater than 2 significantly decrease the survival rate. This result may cause from other feature."
   ]
  },
  {
   "cell_type": "code",
   "execution_count": 204,
   "metadata": {
    "scrolled": true
   },
   "outputs": [
    {
     "data": {
      "text/html": [
       "<style  type=\"text/css\" >\n",
       "#T_1beab6d3_0a47_11eb_a0ed_9cb6d0fe8896row0_col0,#T_1beab6d3_0a47_11eb_a0ed_9cb6d0fe8896row0_col1,#T_1beab6d3_0a47_11eb_a0ed_9cb6d0fe8896row0_col2{\n",
       "            background-color:  #023858;\n",
       "            color:  #f1f1f1;\n",
       "        }#T_1beab6d3_0a47_11eb_a0ed_9cb6d0fe8896row1_col0{\n",
       "            background-color:  #6ba5cd;\n",
       "            color:  #000000;\n",
       "        }#T_1beab6d3_0a47_11eb_a0ed_9cb6d0fe8896row1_col1{\n",
       "            background-color:  #84b0d3;\n",
       "            color:  #000000;\n",
       "        }#T_1beab6d3_0a47_11eb_a0ed_9cb6d0fe8896row1_col2{\n",
       "            background-color:  #d6d6e9;\n",
       "            color:  #000000;\n",
       "        }#T_1beab6d3_0a47_11eb_a0ed_9cb6d0fe8896row2_col0,#T_1beab6d3_0a47_11eb_a0ed_9cb6d0fe8896row4_col2{\n",
       "            background-color:  #faf2f8;\n",
       "            color:  #000000;\n",
       "        }#T_1beab6d3_0a47_11eb_a0ed_9cb6d0fe8896row2_col1{\n",
       "            background-color:  #f5eef6;\n",
       "            color:  #000000;\n",
       "        }#T_1beab6d3_0a47_11eb_a0ed_9cb6d0fe8896row2_col2{\n",
       "            background-color:  #fbf3f9;\n",
       "            color:  #000000;\n",
       "        }#T_1beab6d3_0a47_11eb_a0ed_9cb6d0fe8896row3_col0,#T_1beab6d3_0a47_11eb_a0ed_9cb6d0fe8896row3_col2{\n",
       "            background-color:  #fcf4fa;\n",
       "            color:  #000000;\n",
       "        }#T_1beab6d3_0a47_11eb_a0ed_9cb6d0fe8896row3_col1{\n",
       "            background-color:  #fef6fa;\n",
       "            color:  #000000;\n",
       "        }#T_1beab6d3_0a47_11eb_a0ed_9cb6d0fe8896row4_col0,#T_1beab6d3_0a47_11eb_a0ed_9cb6d0fe8896row4_col1,#T_1beab6d3_0a47_11eb_a0ed_9cb6d0fe8896row5_col0,#T_1beab6d3_0a47_11eb_a0ed_9cb6d0fe8896row5_col1,#T_1beab6d3_0a47_11eb_a0ed_9cb6d0fe8896row5_col2,#T_1beab6d3_0a47_11eb_a0ed_9cb6d0fe8896row6_col0,#T_1beab6d3_0a47_11eb_a0ed_9cb6d0fe8896row6_col1{\n",
       "            background-color:  #fff7fb;\n",
       "            color:  #000000;\n",
       "        }#T_1beab6d3_0a47_11eb_a0ed_9cb6d0fe8896row6_col2{\n",
       "            background-color:  #fef6fb;\n",
       "            color:  #000000;\n",
       "        }</style><table id=\"T_1beab6d3_0a47_11eb_a0ed_9cb6d0fe8896\" ><thead>    <tr>        <th class=\"index_name level0\" >Pclass</th>        <th class=\"col_heading level0 col0\" >1</th>        <th class=\"col_heading level0 col1\" >2</th>        <th class=\"col_heading level0 col2\" >3</th>    </tr>    <tr>        <th class=\"index_name level0\" >SibSp</th>        <th class=\"blank\" ></th>        <th class=\"blank\" ></th>        <th class=\"blank\" ></th>    </tr></thead><tbody>\n",
       "                <tr>\n",
       "                        <th id=\"T_1beab6d3_0a47_11eb_a0ed_9cb6d0fe8896level0_row0\" class=\"row_heading level0 row0\" >0</th>\n",
       "                        <td id=\"T_1beab6d3_0a47_11eb_a0ed_9cb6d0fe8896row0_col0\" class=\"data row0 col0\" >137</td>\n",
       "                        <td id=\"T_1beab6d3_0a47_11eb_a0ed_9cb6d0fe8896row0_col1\" class=\"data row0 col1\" >120</td>\n",
       "                        <td id=\"T_1beab6d3_0a47_11eb_a0ed_9cb6d0fe8896row0_col2\" class=\"data row0 col2\" >351</td>\n",
       "            </tr>\n",
       "            <tr>\n",
       "                        <th id=\"T_1beab6d3_0a47_11eb_a0ed_9cb6d0fe8896level0_row1\" class=\"row_heading level0 row1\" >1</th>\n",
       "                        <td id=\"T_1beab6d3_0a47_11eb_a0ed_9cb6d0fe8896row1_col0\" class=\"data row1 col0\" >71</td>\n",
       "                        <td id=\"T_1beab6d3_0a47_11eb_a0ed_9cb6d0fe8896row1_col1\" class=\"data row1 col1\" >55</td>\n",
       "                        <td id=\"T_1beab6d3_0a47_11eb_a0ed_9cb6d0fe8896row1_col2\" class=\"data row1 col2\" >83</td>\n",
       "            </tr>\n",
       "            <tr>\n",
       "                        <th id=\"T_1beab6d3_0a47_11eb_a0ed_9cb6d0fe8896level0_row2\" class=\"row_heading level0 row2\" >2</th>\n",
       "                        <td id=\"T_1beab6d3_0a47_11eb_a0ed_9cb6d0fe8896row2_col0\" class=\"data row2 col0\" >5</td>\n",
       "                        <td id=\"T_1beab6d3_0a47_11eb_a0ed_9cb6d0fe8896row2_col1\" class=\"data row2 col1\" >8</td>\n",
       "                        <td id=\"T_1beab6d3_0a47_11eb_a0ed_9cb6d0fe8896row2_col2\" class=\"data row2 col2\" >15</td>\n",
       "            </tr>\n",
       "            <tr>\n",
       "                        <th id=\"T_1beab6d3_0a47_11eb_a0ed_9cb6d0fe8896level0_row3\" class=\"row_heading level0 row3\" >3</th>\n",
       "                        <td id=\"T_1beab6d3_0a47_11eb_a0ed_9cb6d0fe8896row3_col0\" class=\"data row3 col0\" >3</td>\n",
       "                        <td id=\"T_1beab6d3_0a47_11eb_a0ed_9cb6d0fe8896row3_col1\" class=\"data row3 col1\" >1</td>\n",
       "                        <td id=\"T_1beab6d3_0a47_11eb_a0ed_9cb6d0fe8896row3_col2\" class=\"data row3 col2\" >12</td>\n",
       "            </tr>\n",
       "            <tr>\n",
       "                        <th id=\"T_1beab6d3_0a47_11eb_a0ed_9cb6d0fe8896level0_row4\" class=\"row_heading level0 row4\" >4</th>\n",
       "                        <td id=\"T_1beab6d3_0a47_11eb_a0ed_9cb6d0fe8896row4_col0\" class=\"data row4 col0\" >0</td>\n",
       "                        <td id=\"T_1beab6d3_0a47_11eb_a0ed_9cb6d0fe8896row4_col1\" class=\"data row4 col1\" >0</td>\n",
       "                        <td id=\"T_1beab6d3_0a47_11eb_a0ed_9cb6d0fe8896row4_col2\" class=\"data row4 col2\" >18</td>\n",
       "            </tr>\n",
       "            <tr>\n",
       "                        <th id=\"T_1beab6d3_0a47_11eb_a0ed_9cb6d0fe8896level0_row5\" class=\"row_heading level0 row5\" >5</th>\n",
       "                        <td id=\"T_1beab6d3_0a47_11eb_a0ed_9cb6d0fe8896row5_col0\" class=\"data row5 col0\" >0</td>\n",
       "                        <td id=\"T_1beab6d3_0a47_11eb_a0ed_9cb6d0fe8896row5_col1\" class=\"data row5 col1\" >0</td>\n",
       "                        <td id=\"T_1beab6d3_0a47_11eb_a0ed_9cb6d0fe8896row5_col2\" class=\"data row5 col2\" >5</td>\n",
       "            </tr>\n",
       "            <tr>\n",
       "                        <th id=\"T_1beab6d3_0a47_11eb_a0ed_9cb6d0fe8896level0_row6\" class=\"row_heading level0 row6\" >8</th>\n",
       "                        <td id=\"T_1beab6d3_0a47_11eb_a0ed_9cb6d0fe8896row6_col0\" class=\"data row6 col0\" >0</td>\n",
       "                        <td id=\"T_1beab6d3_0a47_11eb_a0ed_9cb6d0fe8896row6_col1\" class=\"data row6 col1\" >0</td>\n",
       "                        <td id=\"T_1beab6d3_0a47_11eb_a0ed_9cb6d0fe8896row6_col2\" class=\"data row6 col2\" >7</td>\n",
       "            </tr>\n",
       "    </tbody></table>"
      ],
      "text/plain": [
       "<pandas.io.formats.style.Styler at 0x18ee1ed54f0>"
      ]
     },
     "execution_count": 204,
     "metadata": {},
     "output_type": "execute_result"
    }
   ],
   "source": [
    "pd.crosstab(train.SibSp, train.Pclass).style.background_gradient(cmap='PuBu')"
   ]
  },
  {
   "cell_type": "markdown",
   "metadata": {},
   "source": [
    "From the crosstab, most of the passengers having 3 siblings or spouse are in Pclass 3. Moreover, SibSp 4, 5, and 8　are all belong to Pclass 3. "
   ]
  },
  {
   "cell_type": "markdown",
   "metadata": {},
   "source": [
    "#### \"Parch\" (discrete feature)"
   ]
  },
  {
   "cell_type": "code",
   "execution_count": 205,
   "metadata": {},
   "outputs": [
    {
     "data": {
      "text/html": [
       "<style  type=\"text/css\" >\n",
       "#T_1c53bb26_0a47_11eb_979c_9cb6d0fe8896row0_col0{\n",
       "            background-color:  #05659f;\n",
       "            color:  #f1f1f1;\n",
       "        }#T_1c53bb26_0a47_11eb_979c_9cb6d0fe8896row0_col1{\n",
       "            background-color:  #2081b9;\n",
       "            color:  #000000;\n",
       "        }#T_1c53bb26_0a47_11eb_979c_9cb6d0fe8896row0_col2{\n",
       "            background-color:  #056ead;\n",
       "            color:  #f1f1f1;\n",
       "        }#T_1c53bb26_0a47_11eb_979c_9cb6d0fe8896row1_col0{\n",
       "            background-color:  #f1ebf4;\n",
       "            color:  #000000;\n",
       "        }#T_1c53bb26_0a47_11eb_979c_9cb6d0fe8896row1_col1{\n",
       "            background-color:  #dedcec;\n",
       "            color:  #000000;\n",
       "        }#T_1c53bb26_0a47_11eb_979c_9cb6d0fe8896row1_col2{\n",
       "            background-color:  #ebe6f2;\n",
       "            color:  #000000;\n",
       "        }#T_1c53bb26_0a47_11eb_979c_9cb6d0fe8896row2_col0{\n",
       "            background-color:  #f4eef6;\n",
       "            color:  #000000;\n",
       "        }#T_1c53bb26_0a47_11eb_979c_9cb6d0fe8896row2_col1{\n",
       "            background-color:  #eee8f3;\n",
       "            color:  #000000;\n",
       "        }#T_1c53bb26_0a47_11eb_979c_9cb6d0fe8896row2_col2{\n",
       "            background-color:  #f2ecf5;\n",
       "            color:  #000000;\n",
       "        }#T_1c53bb26_0a47_11eb_979c_9cb6d0fe8896row3_col0,#T_1c53bb26_0a47_11eb_979c_9cb6d0fe8896row4_col1,#T_1c53bb26_0a47_11eb_979c_9cb6d0fe8896row4_col2,#T_1c53bb26_0a47_11eb_979c_9cb6d0fe8896row5_col1,#T_1c53bb26_0a47_11eb_979c_9cb6d0fe8896row6_col0,#T_1c53bb26_0a47_11eb_979c_9cb6d0fe8896row6_col1,#T_1c53bb26_0a47_11eb_979c_9cb6d0fe8896row6_col2{\n",
       "            background-color:  #fff7fb;\n",
       "            color:  #000000;\n",
       "        }#T_1c53bb26_0a47_11eb_979c_9cb6d0fe8896row3_col1{\n",
       "            background-color:  #fef6fa;\n",
       "            color:  #000000;\n",
       "        }#T_1c53bb26_0a47_11eb_979c_9cb6d0fe8896row3_col2,#T_1c53bb26_0a47_11eb_979c_9cb6d0fe8896row4_col0,#T_1c53bb26_0a47_11eb_979c_9cb6d0fe8896row5_col0,#T_1c53bb26_0a47_11eb_979c_9cb6d0fe8896row5_col2{\n",
       "            background-color:  #fef6fb;\n",
       "            color:  #000000;\n",
       "        }#T_1c53bb26_0a47_11eb_979c_9cb6d0fe8896row7_col0,#T_1c53bb26_0a47_11eb_979c_9cb6d0fe8896row7_col1,#T_1c53bb26_0a47_11eb_979c_9cb6d0fe8896row7_col2{\n",
       "            background-color:  #023858;\n",
       "            color:  #f1f1f1;\n",
       "        }</style><table id=\"T_1c53bb26_0a47_11eb_979c_9cb6d0fe8896\" ><thead>    <tr>        <th class=\"index_name level0\" >Survived</th>        <th class=\"col_heading level0 col0\" >0</th>        <th class=\"col_heading level0 col1\" >1</th>        <th class=\"col_heading level0 col2\" >All</th>    </tr>    <tr>        <th class=\"index_name level0\" >Parch</th>        <th class=\"blank\" ></th>        <th class=\"blank\" ></th>        <th class=\"blank\" ></th>    </tr></thead><tbody>\n",
       "                <tr>\n",
       "                        <th id=\"T_1c53bb26_0a47_11eb_979c_9cb6d0fe8896level0_row0\" class=\"row_heading level0 row0\" >0</th>\n",
       "                        <td id=\"T_1c53bb26_0a47_11eb_979c_9cb6d0fe8896row0_col0\" class=\"data row0 col0\" >445</td>\n",
       "                        <td id=\"T_1c53bb26_0a47_11eb_979c_9cb6d0fe8896row0_col1\" class=\"data row0 col1\" >233</td>\n",
       "                        <td id=\"T_1c53bb26_0a47_11eb_979c_9cb6d0fe8896row0_col2\" class=\"data row0 col2\" >678</td>\n",
       "            </tr>\n",
       "            <tr>\n",
       "                        <th id=\"T_1c53bb26_0a47_11eb_979c_9cb6d0fe8896level0_row1\" class=\"row_heading level0 row1\" >1</th>\n",
       "                        <td id=\"T_1c53bb26_0a47_11eb_979c_9cb6d0fe8896row1_col0\" class=\"data row1 col0\" >53</td>\n",
       "                        <td id=\"T_1c53bb26_0a47_11eb_979c_9cb6d0fe8896row1_col1\" class=\"data row1 col1\" >65</td>\n",
       "                        <td id=\"T_1c53bb26_0a47_11eb_979c_9cb6d0fe8896row1_col2\" class=\"data row1 col2\" >118</td>\n",
       "            </tr>\n",
       "            <tr>\n",
       "                        <th id=\"T_1c53bb26_0a47_11eb_979c_9cb6d0fe8896level0_row2\" class=\"row_heading level0 row2\" >2</th>\n",
       "                        <td id=\"T_1c53bb26_0a47_11eb_979c_9cb6d0fe8896row2_col0\" class=\"data row2 col0\" >40</td>\n",
       "                        <td id=\"T_1c53bb26_0a47_11eb_979c_9cb6d0fe8896row2_col1\" class=\"data row2 col1\" >40</td>\n",
       "                        <td id=\"T_1c53bb26_0a47_11eb_979c_9cb6d0fe8896row2_col2\" class=\"data row2 col2\" >80</td>\n",
       "            </tr>\n",
       "            <tr>\n",
       "                        <th id=\"T_1c53bb26_0a47_11eb_979c_9cb6d0fe8896level0_row3\" class=\"row_heading level0 row3\" >3</th>\n",
       "                        <td id=\"T_1c53bb26_0a47_11eb_979c_9cb6d0fe8896row3_col0\" class=\"data row3 col0\" >2</td>\n",
       "                        <td id=\"T_1c53bb26_0a47_11eb_979c_9cb6d0fe8896row3_col1\" class=\"data row3 col1\" >3</td>\n",
       "                        <td id=\"T_1c53bb26_0a47_11eb_979c_9cb6d0fe8896row3_col2\" class=\"data row3 col2\" >5</td>\n",
       "            </tr>\n",
       "            <tr>\n",
       "                        <th id=\"T_1c53bb26_0a47_11eb_979c_9cb6d0fe8896level0_row4\" class=\"row_heading level0 row4\" >4</th>\n",
       "                        <td id=\"T_1c53bb26_0a47_11eb_979c_9cb6d0fe8896row4_col0\" class=\"data row4 col0\" >4</td>\n",
       "                        <td id=\"T_1c53bb26_0a47_11eb_979c_9cb6d0fe8896row4_col1\" class=\"data row4 col1\" >0</td>\n",
       "                        <td id=\"T_1c53bb26_0a47_11eb_979c_9cb6d0fe8896row4_col2\" class=\"data row4 col2\" >4</td>\n",
       "            </tr>\n",
       "            <tr>\n",
       "                        <th id=\"T_1c53bb26_0a47_11eb_979c_9cb6d0fe8896level0_row5\" class=\"row_heading level0 row5\" >5</th>\n",
       "                        <td id=\"T_1c53bb26_0a47_11eb_979c_9cb6d0fe8896row5_col0\" class=\"data row5 col0\" >4</td>\n",
       "                        <td id=\"T_1c53bb26_0a47_11eb_979c_9cb6d0fe8896row5_col1\" class=\"data row5 col1\" >1</td>\n",
       "                        <td id=\"T_1c53bb26_0a47_11eb_979c_9cb6d0fe8896row5_col2\" class=\"data row5 col2\" >5</td>\n",
       "            </tr>\n",
       "            <tr>\n",
       "                        <th id=\"T_1c53bb26_0a47_11eb_979c_9cb6d0fe8896level0_row6\" class=\"row_heading level0 row6\" >6</th>\n",
       "                        <td id=\"T_1c53bb26_0a47_11eb_979c_9cb6d0fe8896row6_col0\" class=\"data row6 col0\" >1</td>\n",
       "                        <td id=\"T_1c53bb26_0a47_11eb_979c_9cb6d0fe8896row6_col1\" class=\"data row6 col1\" >0</td>\n",
       "                        <td id=\"T_1c53bb26_0a47_11eb_979c_9cb6d0fe8896row6_col2\" class=\"data row6 col2\" >1</td>\n",
       "            </tr>\n",
       "            <tr>\n",
       "                        <th id=\"T_1c53bb26_0a47_11eb_979c_9cb6d0fe8896level0_row7\" class=\"row_heading level0 row7\" >All</th>\n",
       "                        <td id=\"T_1c53bb26_0a47_11eb_979c_9cb6d0fe8896row7_col0\" class=\"data row7 col0\" >549</td>\n",
       "                        <td id=\"T_1c53bb26_0a47_11eb_979c_9cb6d0fe8896row7_col1\" class=\"data row7 col1\" >342</td>\n",
       "                        <td id=\"T_1c53bb26_0a47_11eb_979c_9cb6d0fe8896row7_col2\" class=\"data row7 col2\" >891</td>\n",
       "            </tr>\n",
       "    </tbody></table>"
      ],
      "text/plain": [
       "<pandas.io.formats.style.Styler at 0x18ee054d250>"
      ]
     },
     "execution_count": 205,
     "metadata": {},
     "output_type": "execute_result"
    }
   ],
   "source": [
    "pd.crosstab(train.Parch, train.Survived, margins=True).style.background_gradient(cmap='PuBu')"
   ]
  },
  {
   "cell_type": "code",
   "execution_count": 206,
   "metadata": {},
   "outputs": [
    {
     "name": "stderr",
     "output_type": "stream",
     "text": [
      "C:\\Users\\alien\\anaconda3\\lib\\site-packages\\seaborn\\_decorators.py:36: FutureWarning: Pass the following variables as keyword args: x, y. From version 0.12, the only valid positional argument will be `data`, and passing other arguments without an explicit keyword will result in an error or misinterpretation.\n",
      "  warnings.warn(\n"
     ]
    },
    {
     "data": {
      "text/plain": [
       "Text(0.5, 1.0, 'SibSp vs. Survived')"
      ]
     },
     "execution_count": 206,
     "metadata": {},
     "output_type": "execute_result"
    },
    {
     "data": {
      "image/png": "[encoded data removed]",
      "text/plain": [
       "<Figure size 576x396 with 1 Axes>"
      ]
     },
     "metadata": {},
     "output_type": "display_data"
    }
   ],
   "source": [
    "sns.barplot('Parch','Survived', data=train)\n",
    "plt.title(\"SibSp vs. Survived\")"
   ]
  },
  {
   "cell_type": "markdown",
   "metadata": {},
   "source": [
    "The passengers has 1, 2, Aand 3 parent or children have higher survival rate, while Parch 4 to 6 has lower survival rate. Again, we examine the relationship between Parch and Pclass."
   ]
  },
  {
   "cell_type": "code",
   "execution_count": 207,
   "metadata": {},
   "outputs": [
    {
     "data": {
      "text/html": [
       "<style  type=\"text/css\" >\n",
       "#T_1d696b9e_0a47_11eb_a1cb_9cb6d0fe8896row0_col0,#T_1d696b9e_0a47_11eb_a1cb_9cb6d0fe8896row0_col1,#T_1d696b9e_0a47_11eb_a1cb_9cb6d0fe8896row0_col2{\n",
       "            background-color:  #023858;\n",
       "            color:  #f1f1f1;\n",
       "        }#T_1d696b9e_0a47_11eb_a1cb_9cb6d0fe8896row1_col0{\n",
       "            background-color:  #dedcec;\n",
       "            color:  #000000;\n",
       "        }#T_1d696b9e_0a47_11eb_a1cb_9cb6d0fe8896row1_col1{\n",
       "            background-color:  #d2d3e7;\n",
       "            color:  #000000;\n",
       "        }#T_1d696b9e_0a47_11eb_a1cb_9cb6d0fe8896row1_col2{\n",
       "            background-color:  #e8e4f0;\n",
       "            color:  #000000;\n",
       "        }#T_1d696b9e_0a47_11eb_a1cb_9cb6d0fe8896row2_col0{\n",
       "            background-color:  #ece7f2;\n",
       "            color:  #000000;\n",
       "        }#T_1d696b9e_0a47_11eb_a1cb_9cb6d0fe8896row2_col1{\n",
       "            background-color:  #ede8f3;\n",
       "            color:  #000000;\n",
       "        }#T_1d696b9e_0a47_11eb_a1cb_9cb6d0fe8896row2_col2{\n",
       "            background-color:  #eee9f3;\n",
       "            color:  #000000;\n",
       "        }#T_1d696b9e_0a47_11eb_a1cb_9cb6d0fe8896row3_col0,#T_1d696b9e_0a47_11eb_a1cb_9cb6d0fe8896row4_col1,#T_1d696b9e_0a47_11eb_a1cb_9cb6d0fe8896row5_col0,#T_1d696b9e_0a47_11eb_a1cb_9cb6d0fe8896row5_col1,#T_1d696b9e_0a47_11eb_a1cb_9cb6d0fe8896row6_col0,#T_1d696b9e_0a47_11eb_a1cb_9cb6d0fe8896row6_col1,#T_1d696b9e_0a47_11eb_a1cb_9cb6d0fe8896row6_col2{\n",
       "            background-color:  #fff7fb;\n",
       "            color:  #000000;\n",
       "        }#T_1d696b9e_0a47_11eb_a1cb_9cb6d0fe8896row3_col1{\n",
       "            background-color:  #fdf5fa;\n",
       "            color:  #000000;\n",
       "        }#T_1d696b9e_0a47_11eb_a1cb_9cb6d0fe8896row3_col2,#T_1d696b9e_0a47_11eb_a1cb_9cb6d0fe8896row4_col0,#T_1d696b9e_0a47_11eb_a1cb_9cb6d0fe8896row4_col2{\n",
       "            background-color:  #fef6fb;\n",
       "            color:  #000000;\n",
       "        }#T_1d696b9e_0a47_11eb_a1cb_9cb6d0fe8896row5_col2{\n",
       "            background-color:  #fef6fa;\n",
       "            color:  #000000;\n",
       "        }</style><table id=\"T_1d696b9e_0a47_11eb_a1cb_9cb6d0fe8896\" ><thead>    <tr>        <th class=\"index_name level0\" >Pclass</th>        <th class=\"col_heading level0 col0\" >1</th>        <th class=\"col_heading level0 col1\" >2</th>        <th class=\"col_heading level0 col2\" >3</th>    </tr>    <tr>        <th class=\"index_name level0\" >Parch</th>        <th class=\"blank\" ></th>        <th class=\"blank\" ></th>        <th class=\"blank\" ></th>    </tr></thead><tbody>\n",
       "                <tr>\n",
       "                        <th id=\"T_1d696b9e_0a47_11eb_a1cb_9cb6d0fe8896level0_row0\" class=\"row_heading level0 row0\" >0</th>\n",
       "                        <td id=\"T_1d696b9e_0a47_11eb_a1cb_9cb6d0fe8896row0_col0\" class=\"data row0 col0\" >163</td>\n",
       "                        <td id=\"T_1d696b9e_0a47_11eb_a1cb_9cb6d0fe8896row0_col1\" class=\"data row0 col1\" >134</td>\n",
       "                        <td id=\"T_1d696b9e_0a47_11eb_a1cb_9cb6d0fe8896row0_col2\" class=\"data row0 col2\" >381</td>\n",
       "            </tr>\n",
       "            <tr>\n",
       "                        <th id=\"T_1d696b9e_0a47_11eb_a1cb_9cb6d0fe8896level0_row1\" class=\"row_heading level0 row1\" >1</th>\n",
       "                        <td id=\"T_1d696b9e_0a47_11eb_a1cb_9cb6d0fe8896row1_col0\" class=\"data row1 col0\" >31</td>\n",
       "                        <td id=\"T_1d696b9e_0a47_11eb_a1cb_9cb6d0fe8896row1_col1\" class=\"data row1 col1\" >32</td>\n",
       "                        <td id=\"T_1d696b9e_0a47_11eb_a1cb_9cb6d0fe8896row1_col2\" class=\"data row1 col2\" >55</td>\n",
       "            </tr>\n",
       "            <tr>\n",
       "                        <th id=\"T_1d696b9e_0a47_11eb_a1cb_9cb6d0fe8896level0_row2\" class=\"row_heading level0 row2\" >2</th>\n",
       "                        <td id=\"T_1d696b9e_0a47_11eb_a1cb_9cb6d0fe8896row2_col0\" class=\"data row2 col0\" >21</td>\n",
       "                        <td id=\"T_1d696b9e_0a47_11eb_a1cb_9cb6d0fe8896row2_col1\" class=\"data row2 col1\" >16</td>\n",
       "                        <td id=\"T_1d696b9e_0a47_11eb_a1cb_9cb6d0fe8896row2_col2\" class=\"data row2 col2\" >43</td>\n",
       "            </tr>\n",
       "            <tr>\n",
       "                        <th id=\"T_1d696b9e_0a47_11eb_a1cb_9cb6d0fe8896level0_row3\" class=\"row_heading level0 row3\" >3</th>\n",
       "                        <td id=\"T_1d696b9e_0a47_11eb_a1cb_9cb6d0fe8896row3_col0\" class=\"data row3 col0\" >0</td>\n",
       "                        <td id=\"T_1d696b9e_0a47_11eb_a1cb_9cb6d0fe8896row3_col1\" class=\"data row3 col1\" >2</td>\n",
       "                        <td id=\"T_1d696b9e_0a47_11eb_a1cb_9cb6d0fe8896row3_col2\" class=\"data row3 col2\" >3</td>\n",
       "            </tr>\n",
       "            <tr>\n",
       "                        <th id=\"T_1d696b9e_0a47_11eb_a1cb_9cb6d0fe8896level0_row4\" class=\"row_heading level0 row4\" >4</th>\n",
       "                        <td id=\"T_1d696b9e_0a47_11eb_a1cb_9cb6d0fe8896row4_col0\" class=\"data row4 col0\" >1</td>\n",
       "                        <td id=\"T_1d696b9e_0a47_11eb_a1cb_9cb6d0fe8896row4_col1\" class=\"data row4 col1\" >0</td>\n",
       "                        <td id=\"T_1d696b9e_0a47_11eb_a1cb_9cb6d0fe8896row4_col2\" class=\"data row4 col2\" >3</td>\n",
       "            </tr>\n",
       "            <tr>\n",
       "                        <th id=\"T_1d696b9e_0a47_11eb_a1cb_9cb6d0fe8896level0_row5\" class=\"row_heading level0 row5\" >5</th>\n",
       "                        <td id=\"T_1d696b9e_0a47_11eb_a1cb_9cb6d0fe8896row5_col0\" class=\"data row5 col0\" >0</td>\n",
       "                        <td id=\"T_1d696b9e_0a47_11eb_a1cb_9cb6d0fe8896row5_col1\" class=\"data row5 col1\" >0</td>\n",
       "                        <td id=\"T_1d696b9e_0a47_11eb_a1cb_9cb6d0fe8896row5_col2\" class=\"data row5 col2\" >5</td>\n",
       "            </tr>\n",
       "            <tr>\n",
       "                        <th id=\"T_1d696b9e_0a47_11eb_a1cb_9cb6d0fe8896level0_row6\" class=\"row_heading level0 row6\" >6</th>\n",
       "                        <td id=\"T_1d696b9e_0a47_11eb_a1cb_9cb6d0fe8896row6_col0\" class=\"data row6 col0\" >0</td>\n",
       "                        <td id=\"T_1d696b9e_0a47_11eb_a1cb_9cb6d0fe8896row6_col1\" class=\"data row6 col1\" >0</td>\n",
       "                        <td id=\"T_1d696b9e_0a47_11eb_a1cb_9cb6d0fe8896row6_col2\" class=\"data row6 col2\" >1</td>\n",
       "            </tr>\n",
       "    </tbody></table>"
      ],
      "text/plain": [
       "<pandas.io.formats.style.Styler at 0x18edfee4610>"
      ]
     },
     "execution_count": 207,
     "metadata": {},
     "output_type": "execute_result"
    }
   ],
   "source": [
    "pd.crosstab(train.Parch, train.Pclass).style.background_gradient(cmap='PuBu')"
   ]
  },
  {
   "cell_type": "markdown",
   "metadata": {},
   "source": [
    "We can only find most of Parch 4, 5, 6 are Pclass 3. However, their corresponding cases are rare, we can't conduct any conclusion."
   ]
  },
  {
   "cell_type": "markdown",
   "metadata": {},
   "source": [
    "#### Tickets\n",
    "We didn't consider the feature \"Ticket\" because it is a combination of numbers with no particular pattern."
   ]
  },
  {
   "cell_type": "markdown",
   "metadata": {},
   "source": [
    "#### \"Fare\" (continuous feature)"
   ]
  },
  {
   "cell_type": "code",
   "execution_count": 208,
   "metadata": {},
   "outputs": [
    {
     "data": {
      "text/plain": [
       "271      0.0000\n",
       "597      0.0000\n",
       "302      0.0000\n",
       "633      0.0000\n",
       "277      0.0000\n",
       "         ...   \n",
       "438    263.0000\n",
       "341    263.0000\n",
       "737    512.3292\n",
       "258    512.3292\n",
       "679    512.3292\n",
       "Name: Fare, Length: 891, dtype: float64"
      ]
     },
     "execution_count": 208,
     "metadata": {},
     "output_type": "execute_result"
    }
   ],
   "source": [
    "train['Fare'].sort_values()"
   ]
  },
  {
   "cell_type": "code",
   "execution_count": 209,
   "metadata": {},
   "outputs": [
    {
     "data": {
      "text/plain": [
       "<seaborn.axisgrid.FacetGrid at 0x18ee06d6d00>"
      ]
     },
     "execution_count": 209,
     "metadata": {},
     "output_type": "execute_result"
    },
    {
     "data": {
      "image/png": "[encoded data removed]",
      "text/plain": [
       "<Figure size 407x360 with 1 Axes>"
      ]
     },
     "metadata": {},
     "output_type": "display_data"
    }
   ],
   "source": [
    "sns.displot(train, x=\"Fare\", hue=\"Survived\", kde=True, bins=50)\n",
    "# Or we can convert the continuous variable to categorical variable: train['Fare_cat'] = pd.qcut(train['Fare'], 4)"
   ]
  },
  {
   "cell_type": "markdown",
   "metadata": {},
   "source": [
    "From the histogram, we can find Fare greater than 40 or 50 has higher survival rate."
   ]
  },
  {
   "cell_type": "markdown",
   "metadata": {},
   "source": [
    "#### \"Cabin\"\n",
    "Since there are about 75% null values in \"Cabin\", so we decided to drop the feature \"Cabin\"."
   ]
  },
  {
   "cell_type": "code",
   "execution_count": 210,
   "metadata": {},
   "outputs": [],
   "source": [
    "train = train.drop('Cabin', axis=1)"
   ]
  },
  {
   "cell_type": "markdown",
   "metadata": {},
   "source": [
    "#### \"Embarked\" (categorical feature)"
   ]
  },
  {
   "cell_type": "code",
   "execution_count": 211,
   "metadata": {},
   "outputs": [
    {
     "data": {
      "text/html": [
       "<style  type=\"text/css\" >\n",
       "#T_22b15be8_0a47_11eb_af98_9cb6d0fe8896row0_col0{\n",
       "            background-color:  #f7f0f7;\n",
       "            color:  #000000;\n",
       "        }#T_22b15be8_0a47_11eb_af98_9cb6d0fe8896row0_col1{\n",
       "            background-color:  #dad9ea;\n",
       "            color:  #000000;\n",
       "        }#T_22b15be8_0a47_11eb_af98_9cb6d0fe8896row0_col2{\n",
       "            background-color:  #eee9f3;\n",
       "            color:  #000000;\n",
       "        }#T_22b15be8_0a47_11eb_af98_9cb6d0fe8896row1_col0,#T_22b15be8_0a47_11eb_af98_9cb6d0fe8896row1_col1,#T_22b15be8_0a47_11eb_af98_9cb6d0fe8896row1_col2{\n",
       "            background-color:  #fff7fb;\n",
       "            color:  #000000;\n",
       "        }#T_22b15be8_0a47_11eb_af98_9cb6d0fe8896row2_col0{\n",
       "            background-color:  #056fae;\n",
       "            color:  #f1f1f1;\n",
       "        }#T_22b15be8_0a47_11eb_af98_9cb6d0fe8896row2_col1{\n",
       "            background-color:  #4094c3;\n",
       "            color:  #000000;\n",
       "        }#T_22b15be8_0a47_11eb_af98_9cb6d0fe8896row2_col2{\n",
       "            background-color:  #197db7;\n",
       "            color:  #000000;\n",
       "        }#T_22b15be8_0a47_11eb_af98_9cb6d0fe8896row3_col0,#T_22b15be8_0a47_11eb_af98_9cb6d0fe8896row3_col1,#T_22b15be8_0a47_11eb_af98_9cb6d0fe8896row3_col2{\n",
       "            background-color:  #023858;\n",
       "            color:  #f1f1f1;\n",
       "        }</style><table id=\"T_22b15be8_0a47_11eb_af98_9cb6d0fe8896\" ><thead>    <tr>        <th class=\"index_name level0\" >Survived</th>        <th class=\"col_heading level0 col0\" >0</th>        <th class=\"col_heading level0 col1\" >1</th>        <th class=\"col_heading level0 col2\" >All</th>    </tr>    <tr>        <th class=\"index_name level0\" >Embarked</th>        <th class=\"blank\" ></th>        <th class=\"blank\" ></th>        <th class=\"blank\" ></th>    </tr></thead><tbody>\n",
       "                <tr>\n",
       "                        <th id=\"T_22b15be8_0a47_11eb_af98_9cb6d0fe8896level0_row0\" class=\"row_heading level0 row0\" >C</th>\n",
       "                        <td id=\"T_22b15be8_0a47_11eb_af98_9cb6d0fe8896row0_col0\" class=\"data row0 col0\" >75</td>\n",
       "                        <td id=\"T_22b15be8_0a47_11eb_af98_9cb6d0fe8896row0_col1\" class=\"data row0 col1\" >93</td>\n",
       "                        <td id=\"T_22b15be8_0a47_11eb_af98_9cb6d0fe8896row0_col2\" class=\"data row0 col2\" >168</td>\n",
       "            </tr>\n",
       "            <tr>\n",
       "                        <th id=\"T_22b15be8_0a47_11eb_af98_9cb6d0fe8896level0_row1\" class=\"row_heading level0 row1\" >Q</th>\n",
       "                        <td id=\"T_22b15be8_0a47_11eb_af98_9cb6d0fe8896row1_col0\" class=\"data row1 col0\" >47</td>\n",
       "                        <td id=\"T_22b15be8_0a47_11eb_af98_9cb6d0fe8896row1_col1\" class=\"data row1 col1\" >30</td>\n",
       "                        <td id=\"T_22b15be8_0a47_11eb_af98_9cb6d0fe8896row1_col2\" class=\"data row1 col2\" >77</td>\n",
       "            </tr>\n",
       "            <tr>\n",
       "                        <th id=\"T_22b15be8_0a47_11eb_af98_9cb6d0fe8896level0_row2\" class=\"row_heading level0 row2\" >S</th>\n",
       "                        <td id=\"T_22b15be8_0a47_11eb_af98_9cb6d0fe8896row2_col0\" class=\"data row2 col0\" >427</td>\n",
       "                        <td id=\"T_22b15be8_0a47_11eb_af98_9cb6d0fe8896row2_col1\" class=\"data row2 col1\" >217</td>\n",
       "                        <td id=\"T_22b15be8_0a47_11eb_af98_9cb6d0fe8896row2_col2\" class=\"data row2 col2\" >644</td>\n",
       "            </tr>\n",
       "            <tr>\n",
       "                        <th id=\"T_22b15be8_0a47_11eb_af98_9cb6d0fe8896level0_row3\" class=\"row_heading level0 row3\" >All</th>\n",
       "                        <td id=\"T_22b15be8_0a47_11eb_af98_9cb6d0fe8896row3_col0\" class=\"data row3 col0\" >549</td>\n",
       "                        <td id=\"T_22b15be8_0a47_11eb_af98_9cb6d0fe8896row3_col1\" class=\"data row3 col1\" >340</td>\n",
       "                        <td id=\"T_22b15be8_0a47_11eb_af98_9cb6d0fe8896row3_col2\" class=\"data row3 col2\" >889</td>\n",
       "            </tr>\n",
       "    </tbody></table>"
      ],
      "text/plain": [
       "<pandas.io.formats.style.Styler at 0x18ee02d92e0>"
      ]
     },
     "execution_count": 211,
     "metadata": {},
     "output_type": "execute_result"
    }
   ],
   "source": [
    "pd.crosstab(train.Embarked, train.Survived, margins=True).style.background_gradient(cmap='PuBu')"
   ]
  },
  {
   "cell_type": "code",
   "execution_count": 212,
   "metadata": {},
   "outputs": [
    {
     "name": "stderr",
     "output_type": "stream",
     "text": [
      "C:\\Users\\alien\\anaconda3\\lib\\site-packages\\seaborn\\_decorators.py:36: FutureWarning: Pass the following variable as a keyword arg: x. From version 0.12, the only valid positional argument will be `data`, and passing other arguments without an explicit keyword will result in an error or misinterpretation.\n",
      "  warnings.warn(\n"
     ]
    },
    {
     "data": {
      "text/plain": [
       "Text(0.5, 1.0, 'Embarked: dead(0) or survived(1)')"
      ]
     },
     "execution_count": 212,
     "metadata": {},
     "output_type": "execute_result"
    },
    {
     "data": {
      "image/png": "[encoded data removed]",
      "text/plain": [
       "<Figure size 1080x360 with 2 Axes>"
      ]
     },
     "metadata": {},
     "output_type": "display_data"
    }
   ],
   "source": [
    "fig, ax = plt.subplots(1,2,figsize=(15,5))\n",
    "\n",
    "sns.countplot(x=\"Embarked\", data=train, ax=ax[0])\n",
    "ax[0].set_title('Number of passengers by Embarked')\n",
    "\n",
    "sns.countplot('Embarked',hue='Survived',data=train, ax=ax[1])\n",
    "ax[1].set_title('Embarked: dead(0) or survived(1)')"
   ]
  },
  {
   "cell_type": "markdown",
   "metadata": {},
   "source": [
    "There are about 72% passengers boarded from S. In addition, the passengers boarding from C has higher survival rate, which is about 55%. Next, Embarked has 2 null values, we just delete the corresponding passenger records in the data."
   ]
  },
  {
   "cell_type": "code",
   "execution_count": 213,
   "metadata": {},
   "outputs": [
    {
     "data": {
      "text/plain": [
       "2"
      ]
     },
     "execution_count": 213,
     "metadata": {},
     "output_type": "execute_result"
    }
   ],
   "source": [
    "train.Embarked.isnull().sum()"
   ]
  },
  {
   "cell_type": "code",
   "execution_count": 214,
   "metadata": {},
   "outputs": [],
   "source": [
    "train = train.dropna(subset=['Embarked'])"
   ]
  },
  {
   "cell_type": "code",
   "execution_count": 215,
   "metadata": {},
   "outputs": [
    {
     "data": {
      "text/plain": [
       "PassengerId    0\n",
       "Survived       0\n",
       "Pclass         0\n",
       "Name           0\n",
       "Sex            0\n",
       "Age            0\n",
       "SibSp          0\n",
       "Parch          0\n",
       "Ticket         0\n",
       "Fare           0\n",
       "Embarked       0\n",
       "Title          0\n",
       "dtype: int64"
      ]
     },
     "execution_count": 215,
     "metadata": {},
     "output_type": "execute_result"
    }
   ],
   "source": [
    "# check the null values\n",
    "train.isnull().sum()"
   ]
  },
  {
   "cell_type": "markdown",
   "metadata": {},
   "source": [
    "### Correlation Between Features\n",
    "Before we check the correlation between features, we delete other unnecessary features."
   ]
  },
  {
   "cell_type": "code",
   "execution_count": 216,
   "metadata": {},
   "outputs": [],
   "source": [
    "train = train.drop(['PassengerId', 'Name', 'Ticket'], axis=1)"
   ]
  },
  {
   "cell_type": "code",
   "execution_count": 220,
   "metadata": {},
   "outputs": [
    {
     "data": {
      "text/plain": [
       "Index(['Survived', 'Pclass', 'Sex', 'Age', 'SibSp', 'Parch', 'Fare',\n",
       "       'Embarked', 'Title'],\n",
       "      dtype='object')"
      ]
     },
     "execution_count": 220,
     "metadata": {},
     "output_type": "execute_result"
    }
   ],
   "source": [
    "train.columns"
   ]
  },
  {
   "cell_type": "code",
   "execution_count": 241,
   "metadata": {},
   "outputs": [
    {
     "data": {
      "image/png": "[encoded data removed]",
      "text/plain": [
       "<Figure size 504x432 with 2 Axes>"
      ]
     },
     "metadata": {},
     "output_type": "display_data"
    }
   ],
   "source": [
    "sns.heatmap(train.corr(), annot=True, cmap='RdBu', linewidths=0.2)\n",
    "# cmap: https://matplotlib.org/3.1.1/tutorials/colors/colormaps.html\n",
    "\n",
    "fig=plt.gcf()\n",
    "fig.set_size_inches(7,6)"
   ]
  },
  {
   "cell_type": "markdown",
   "metadata": {},
   "source": [
    "We can find that Survived and Pclass have moderate negative correlation. This means Pclass may be one of the important feature to predict that passengers survived or not. Furthermore, Pclass and Fare has high negative correlation. This makes sence because higher fare can live higher level of Pclass (lower number of Pclass)."
   ]
  },
  {
   "cell_type": "markdown",
   "metadata": {},
   "source": [
    "## Data preprocessing"
   ]
  },
  {
   "cell_type": "markdown",
   "metadata": {},
   "source": [
    "### Label Encoding and Feature Scaling"
   ]
  },
  {
   "cell_type": "code",
   "execution_count": 291,
   "metadata": {},
   "outputs": [],
   "source": [
    "enc = OneHotEncoder(handle_unknown ='ignore')"
   ]
  },
  {
   "cell_type": "code",
   "execution_count": 243,
   "metadata": {},
   "outputs": [
    {
     "data": {
      "text/html": [
       "<div>\n",
       "<style scoped>\n",
       "    .dataframe tbody tr th:only-of-type {\n",
       "        vertical-align: middle;\n",
       "    }\n",
       "\n",
       "    .dataframe tbody tr th {\n",
       "        vertical-align: top;\n",
       "    }\n",
       "\n",
       "    .dataframe thead th {\n",
       "        text-align: right;\n",
       "    }\n",
       "</style>\n",
       "<table border=\"1\" class=\"dataframe\">\n",
       "  <thead>\n",
       "    <tr style=\"text-align: right;\">\n",
       "      <th></th>\n",
       "      <th>Survived</th>\n",
       "      <th>Pclass</th>\n",
       "      <th>Sex</th>\n",
       "      <th>Age</th>\n",
       "      <th>SibSp</th>\n",
       "      <th>Parch</th>\n",
       "      <th>Fare</th>\n",
       "      <th>Embarked</th>\n",
       "      <th>Title</th>\n",
       "    </tr>\n",
       "  </thead>\n",
       "  <tbody>\n",
       "    <tr>\n",
       "      <th>0</th>\n",
       "      <td>0</td>\n",
       "      <td>3</td>\n",
       "      <td>male</td>\n",
       "      <td>22.0</td>\n",
       "      <td>1</td>\n",
       "      <td>0</td>\n",
       "      <td>7.2500</td>\n",
       "      <td>S</td>\n",
       "      <td>Mr</td>\n",
       "    </tr>\n",
       "    <tr>\n",
       "      <th>1</th>\n",
       "      <td>1</td>\n",
       "      <td>1</td>\n",
       "      <td>female</td>\n",
       "      <td>38.0</td>\n",
       "      <td>1</td>\n",
       "      <td>0</td>\n",
       "      <td>71.2833</td>\n",
       "      <td>C</td>\n",
       "      <td>Mrs</td>\n",
       "    </tr>\n",
       "    <tr>\n",
       "      <th>2</th>\n",
       "      <td>1</td>\n",
       "      <td>3</td>\n",
       "      <td>female</td>\n",
       "      <td>26.0</td>\n",
       "      <td>0</td>\n",
       "      <td>0</td>\n",
       "      <td>7.9250</td>\n",
       "      <td>S</td>\n",
       "      <td>Miss</td>\n",
       "    </tr>\n",
       "    <tr>\n",
       "      <th>3</th>\n",
       "      <td>1</td>\n",
       "      <td>1</td>\n",
       "      <td>female</td>\n",
       "      <td>35.0</td>\n",
       "      <td>1</td>\n",
       "      <td>0</td>\n",
       "      <td>53.1000</td>\n",
       "      <td>S</td>\n",
       "      <td>Mrs</td>\n",
       "    </tr>\n",
       "    <tr>\n",
       "      <th>4</th>\n",
       "      <td>0</td>\n",
       "      <td>3</td>\n",
       "      <td>male</td>\n",
       "      <td>35.0</td>\n",
       "      <td>0</td>\n",
       "      <td>0</td>\n",
       "      <td>8.0500</td>\n",
       "      <td>S</td>\n",
       "      <td>Mr</td>\n",
       "    </tr>\n",
       "  </tbody>\n",
       "</table>\n",
       "</div>"
      ],
      "text/plain": [
       "   Survived  Pclass     Sex   Age  SibSp  Parch     Fare Embarked Title\n",
       "0         0       3    male  22.0      1      0   7.2500        S    Mr\n",
       "1         1       1  female  38.0      1      0  71.2833        C   Mrs\n",
       "2         1       3  female  26.0      0      0   7.9250        S  Miss\n",
       "3         1       1  female  35.0      1      0  53.1000        S   Mrs\n",
       "4         0       3    male  35.0      0      0   8.0500        S    Mr"
      ]
     },
     "execution_count": 243,
     "metadata": {},
     "output_type": "execute_result"
    }
   ],
   "source": [
    "train.head()"
   ]
  },
  {
   "cell_type": "code",
   "execution_count": 244,
   "metadata": {},
   "outputs": [
    {
     "data": {
      "text/html": [
       "<div>\n",
       "<style scoped>\n",
       "    .dataframe tbody tr th:only-of-type {\n",
       "        vertical-align: middle;\n",
       "    }\n",
       "\n",
       "    .dataframe tbody tr th {\n",
       "        vertical-align: top;\n",
       "    }\n",
       "\n",
       "    .dataframe thead th {\n",
       "        text-align: right;\n",
       "    }\n",
       "</style>\n",
       "<table border=\"1\" class=\"dataframe\">\n",
       "  <thead>\n",
       "    <tr style=\"text-align: right;\">\n",
       "      <th></th>\n",
       "      <th>Pclass</th>\n",
       "      <th>Sex</th>\n",
       "      <th>Age</th>\n",
       "      <th>SibSp</th>\n",
       "      <th>Parch</th>\n",
       "      <th>Fare</th>\n",
       "      <th>Embarked</th>\n",
       "      <th>Title</th>\n",
       "    </tr>\n",
       "  </thead>\n",
       "  <tbody>\n",
       "    <tr>\n",
       "      <th>0</th>\n",
       "      <td>3</td>\n",
       "      <td>male</td>\n",
       "      <td>22.0</td>\n",
       "      <td>1</td>\n",
       "      <td>0</td>\n",
       "      <td>7.2500</td>\n",
       "      <td>S</td>\n",
       "      <td>Mr</td>\n",
       "    </tr>\n",
       "    <tr>\n",
       "      <th>1</th>\n",
       "      <td>1</td>\n",
       "      <td>female</td>\n",
       "      <td>38.0</td>\n",
       "      <td>1</td>\n",
       "      <td>0</td>\n",
       "      <td>71.2833</td>\n",
       "      <td>C</td>\n",
       "      <td>Mrs</td>\n",
       "    </tr>\n",
       "    <tr>\n",
       "      <th>2</th>\n",
       "      <td>3</td>\n",
       "      <td>female</td>\n",
       "      <td>26.0</td>\n",
       "      <td>0</td>\n",
       "      <td>0</td>\n",
       "      <td>7.9250</td>\n",
       "      <td>S</td>\n",
       "      <td>Miss</td>\n",
       "    </tr>\n",
       "    <tr>\n",
       "      <th>3</th>\n",
       "      <td>1</td>\n",
       "      <td>female</td>\n",
       "      <td>35.0</td>\n",
       "      <td>1</td>\n",
       "      <td>0</td>\n",
       "      <td>53.1000</td>\n",
       "      <td>S</td>\n",
       "      <td>Mrs</td>\n",
       "    </tr>\n",
       "    <tr>\n",
       "      <th>4</th>\n",
       "      <td>3</td>\n",
       "      <td>male</td>\n",
       "      <td>35.0</td>\n",
       "      <td>0</td>\n",
       "      <td>0</td>\n",
       "      <td>8.0500</td>\n",
       "      <td>S</td>\n",
       "      <td>Mr</td>\n",
       "    </tr>\n",
       "  </tbody>\n",
       "</table>\n",
       "</div>"
      ],
      "text/plain": [
       "   Pclass     Sex   Age  SibSp  Parch     Fare Embarked Title\n",
       "0       3    male  22.0      1      0   7.2500        S    Mr\n",
       "1       1  female  38.0      1      0  71.2833        C   Mrs\n",
       "2       3  female  26.0      0      0   7.9250        S  Miss\n",
       "3       1  female  35.0      1      0  53.1000        S   Mrs\n",
       "4       3    male  35.0      0      0   8.0500        S    Mr"
      ]
     },
     "execution_count": 244,
     "metadata": {},
     "output_type": "execute_result"
    }
   ],
   "source": [
    "x = train.iloc[:, 1:] \n",
    "x.head()"
   ]
  },
  {
   "cell_type": "markdown",
   "metadata": {},
   "source": [
    "We transfer categorical features using One-Hot-Encoder and applying feature scaling by MinMaxScaler."
   ]
  },
  {
   "cell_type": "code",
   "execution_count": 245,
   "metadata": {},
   "outputs": [],
   "source": [
    "column_trans = make_column_transformer((OneHotEncoder(), ['Sex', 'Embarked', 'Title']),\n",
    "                                       remainder=MinMaxScaler())\n",
    "x = column_trans.fit_transform(x)"
   ]
  },
  {
   "cell_type": "code",
   "execution_count": 273,
   "metadata": {},
   "outputs": [
    {
     "data": {
      "text/plain": [
       "(889, 15)"
      ]
     },
     "execution_count": 273,
     "metadata": {},
     "output_type": "execute_result"
    }
   ],
   "source": [
    "x.shape"
   ]
  },
  {
   "cell_type": "code",
   "execution_count": 247,
   "metadata": {},
   "outputs": [
    {
     "data": {
      "text/plain": [
       "0    0\n",
       "1    1\n",
       "2    1\n",
       "3    1\n",
       "4    0\n",
       "Name: Survived, dtype: int64"
      ]
     },
     "execution_count": 247,
     "metadata": {},
     "output_type": "execute_result"
    }
   ],
   "source": [
    "y = train.iloc[:, 0]\n",
    "y.head()"
   ]
  },
  {
   "cell_type": "markdown",
   "metadata": {},
   "source": [
    "## Train model"
   ]
  },
  {
   "cell_type": "markdown",
   "metadata": {},
   "source": [
    "### KNN"
   ]
  },
  {
   "cell_type": "code",
   "execution_count": 276,
   "metadata": {},
   "outputs": [],
   "source": [
    "x_train, x_val, y_train, y_val = train_test_split(x, y, test_size = 0.2, random_state = 0, stratify=train['Survived'])"
   ]
  },
  {
   "cell_type": "code",
   "execution_count": 277,
   "metadata": {},
   "outputs": [],
   "source": [
    "parameters1 = [{'n_neighbors': [2, 3, 4, 5, 6, 7, 8, 9, 10, 11, 12],\n",
    "                'p': [1, 2]}]\n",
    "\n",
    "classifier1 = GridSearchCV(estimator=KNeighborsClassifier(),\n",
    "                           param_grid=parameters1,\n",
    "                           scoring='accuracy',\n",
    "                           cv=10,\n",
    "                           n_jobs=-1)\n",
    "\n",
    "classifier1 = classifier1.fit(x, y)"
   ]
  },
  {
   "cell_type": "code",
   "execution_count": 278,
   "metadata": {},
   "outputs": [
    {
     "data": {
      "text/plain": [
       "array([0.79304137, 0.79754852, 0.81104443, 0.81331716, 0.8098953 ,\n",
       "       0.80878447, 0.79980848, 0.7953141 , 0.82341675, 0.8189096 ,\n",
       "       0.82005873, 0.81781154, 0.82452758, 0.82789837, 0.81781154,\n",
       "       0.81664964, 0.81330439, 0.81667518, 0.80993361, 0.80653728,\n",
       "       0.81555158, 0.81214249])"
      ]
     },
     "execution_count": 278,
     "metadata": {},
     "output_type": "execute_result"
    }
   ],
   "source": [
    "classifier1.cv_results_['mean_test_score']"
   ]
  },
  {
   "cell_type": "code",
   "execution_count": 279,
   "metadata": {},
   "outputs": [
    {
     "name": "stdout",
     "output_type": "stream",
     "text": [
      "0.8278983656792646\n",
      "{'n_neighbors': 8, 'p': 2}\n"
     ]
    }
   ],
   "source": [
    "best_accuracy1 = classifier1.best_score_\n",
    "best_parameters1 = classifier1.best_params_\n",
    "print(best_accuracy1)\n",
    "print(best_parameters1)"
   ]
  },
  {
   "cell_type": "code",
   "execution_count": 280,
   "metadata": {},
   "outputs": [
    {
     "data": {
      "text/plain": [
       "array([[106,   4],\n",
       "       [ 19,  49]], dtype=int64)"
      ]
     },
     "execution_count": 280,
     "metadata": {},
     "output_type": "execute_result"
    }
   ],
   "source": [
    "y_pred1 = classifier1.predict(x_val)\n",
    "cm1 = confusion_matrix(y_val, y_pred1)\n",
    "cm1"
   ]
  },
  {
   "cell_type": "code",
   "execution_count": 281,
   "metadata": {},
   "outputs": [
    {
     "data": {
      "text/plain": [
       "<AxesSubplot:>"
      ]
     },
     "execution_count": 281,
     "metadata": {},
     "output_type": "execute_result"
    },
    {
     "data": {
      "image/png": "[encoded data removed]",
      "text/plain": [
       "<Figure size 432x360 with 2 Axes>"
      ]
     },
     "metadata": {},
     "output_type": "display_data"
    }
   ],
   "source": [
    "plt.figure(figsize = (6,5))\n",
    "sns.heatmap(cm1, annot=True,annot_kws={\"size\": 24}, cmap=\"Blues\") # 'coolwarm' 'Greens' 'BuPu' 'YlGnBu'"
   ]
  },
  {
   "cell_type": "code",
   "execution_count": 284,
   "metadata": {},
   "outputs": [
    {
     "data": {
      "text/plain": [
       "0.8707865168539326"
      ]
     },
     "execution_count": 284,
     "metadata": {},
     "output_type": "execute_result"
    }
   ],
   "source": [
    "acc1 = accuracy_score(y_val, y_pred1)\n",
    "acc1"
   ]
  },
  {
   "cell_type": "markdown",
   "metadata": {},
   "source": [
    "### Decision Tree"
   ]
  },
  {
   "cell_type": "code",
   "execution_count": 285,
   "metadata": {},
   "outputs": [],
   "source": [
    "parameters2 = [{'criterion': ['gini', 'entropy'], \n",
    "                'ccp_alpha': [0, 0.0011, 0.0012, 0.0013, 0.0014, 0.0015, 0.002, 0.004, 0.006, 0.008, 0.01, 0.1, 0.2]}]\n",
    "\n",
    "classifier2 = GridSearchCV(estimator = DecisionTreeClassifier(), \n",
    "                            param_grid = parameters2, \n",
    "                            scoring = 'accuracy', \n",
    "                            cv = 10, \n",
    "                            n_jobs = -1)\n",
    "\n",
    "classifier2 = classifier2.fit(x, y)"
   ]
  },
  {
   "cell_type": "code",
   "execution_count": 286,
   "metadata": {},
   "outputs": [
    {
     "data": {
      "text/plain": [
       "array([0.77618744, 0.77394025, 0.79754852, 0.77395301, 0.79978294,\n",
       "       0.77621297, 0.80540092, 0.76944586, 0.80652451, 0.76719867,\n",
       "       0.81216803, 0.76721144, 0.82340398, 0.77395301, 0.80990807,\n",
       "       0.80206844, 0.8279239 , 0.80094484, 0.8279239 , 0.81668795,\n",
       "       0.82451481, 0.8279239 , 0.78398876, 0.78398876, 0.61754341,\n",
       "       0.78398876])"
      ]
     },
     "execution_count": 286,
     "metadata": {},
     "output_type": "execute_result"
    }
   ],
   "source": [
    "classifier2.cv_results_['mean_test_score']"
   ]
  },
  {
   "cell_type": "code",
   "execution_count": 287,
   "metadata": {},
   "outputs": [
    {
     "name": "stdout",
     "output_type": "stream",
     "text": [
      "0.8279239019407558\n",
      "{'ccp_alpha': 0.006, 'criterion': 'gini'}\n"
     ]
    }
   ],
   "source": [
    "best_accuracy2 = classifier2.best_score_\n",
    "best_parameters2 = classifier2.best_params_\n",
    "print(best_accuracy2)\n",
    "print(best_parameters2)"
   ]
  },
  {
   "cell_type": "code",
   "execution_count": 288,
   "metadata": {},
   "outputs": [
    {
     "data": {
      "text/plain": [
       "array([[99, 11],\n",
       "       [15, 53]], dtype=int64)"
      ]
     },
     "execution_count": 288,
     "metadata": {},
     "output_type": "execute_result"
    }
   ],
   "source": [
    "y_pred2 = classifier2.predict(x_val)\n",
    "cm2 = confusion_matrix(y_val, y_pred2)\n",
    "cm2"
   ]
  },
  {
   "cell_type": "code",
   "execution_count": 289,
   "metadata": {},
   "outputs": [
    {
     "data": {
      "text/plain": [
       "<AxesSubplot:>"
      ]
     },
     "execution_count": 289,
     "metadata": {},
     "output_type": "execute_result"
    },
    {
     "data": {
      "image/png": "[encoded data removed]",
      "text/plain": [
       "<Figure size 432x360 with 2 Axes>"
      ]
     },
     "metadata": {},
     "output_type": "display_data"
    }
   ],
   "source": [
    "plt.figure(figsize = (6,5))\n",
    "sns.heatmap(cm2, annot=True,annot_kws={\"size\": 24}, cmap=\"Blues\") # 'coolwarm' 'Greens' 'BuPu' 'YlGnBu'"
   ]
  },
  {
   "cell_type": "code",
   "execution_count": 290,
   "metadata": {},
   "outputs": [
    {
     "data": {
      "text/plain": [
       "0.8539325842696629"
      ]
     },
     "execution_count": 290,
     "metadata": {},
     "output_type": "execute_result"
    }
   ],
   "source": [
    "acc2 = accuracy_score(y_val, y_pred2)\n",
    "acc2"
   ]
  },
  {
   "cell_type": "markdown",
   "metadata": {},
   "source": [
    "### Logistic Regression"
   ]
  },
  {
   "cell_type": "code",
   "execution_count": 291,
   "metadata": {},
   "outputs": [],
   "source": [
    "parameters3 = [{'penalty': ['l1', 'l2'], \n",
    "                'solver' : ['newton-cg', 'lbfgs', 'liblinear', 'sag', 'saga']}]\n",
    "\n",
    "classifier3 = GridSearchCV(estimator = LogisticRegression(), \n",
    "                            param_grid = parameters3, \n",
    "                            scoring = 'accuracy', \n",
    "                            cv = 10, \n",
    "                            n_jobs = -1)\n",
    "\n",
    "classifier3 = classifier3.fit(x, y)"
   ]
  },
  {
   "cell_type": "code",
   "execution_count": 292,
   "metadata": {},
   "outputs": [
    {
     "data": {
      "text/plain": [
       "array([       nan,        nan, 0.82682584,        nan, 0.82794944,\n",
       "       0.82570225, 0.82570225, 0.82570225, 0.82570225, 0.82570225])"
      ]
     },
     "execution_count": 292,
     "metadata": {},
     "output_type": "execute_result"
    }
   ],
   "source": [
    "classifier3.cv_results_['mean_test_score']"
   ]
  },
  {
   "cell_type": "code",
   "execution_count": 293,
   "metadata": {},
   "outputs": [
    {
     "name": "stdout",
     "output_type": "stream",
     "text": [
      "0.8279494382022472\n",
      "{'penalty': 'l1', 'solver': 'saga'}\n"
     ]
    }
   ],
   "source": [
    "best_accuracy3 = classifier3.best_score_\n",
    "best_parameters3 = classifier3.best_params_\n",
    "print(best_accuracy3)\n",
    "print(best_parameters3)"
   ]
  },
  {
   "cell_type": "code",
   "execution_count": 294,
   "metadata": {},
   "outputs": [
    {
     "data": {
      "text/plain": [
       "array([[96, 14],\n",
       "       [15, 53]], dtype=int64)"
      ]
     },
     "execution_count": 294,
     "metadata": {},
     "output_type": "execute_result"
    }
   ],
   "source": [
    "y_pred3 = classifier3.predict(x_val)\n",
    "cm3 = confusion_matrix(y_val, y_pred3)\n",
    "cm3"
   ]
  },
  {
   "cell_type": "code",
   "execution_count": 295,
   "metadata": {},
   "outputs": [
    {
     "data": {
      "text/plain": [
       "<AxesSubplot:>"
      ]
     },
     "execution_count": 295,
     "metadata": {},
     "output_type": "execute_result"
    },
    {
     "data": {
      "image/png": "[encoded data removed]",
      "text/plain": [
       "<Figure size 432x360 with 2 Axes>"
      ]
     },
     "metadata": {},
     "output_type": "display_data"
    }
   ],
   "source": [
    "plt.figure(figsize = (6,5))\n",
    "sns.heatmap(cm3, annot=True,annot_kws={\"size\": 24}, cmap=\"Blues\") # 'coolwarm' 'Greens' 'BuPu' 'YlGnBu'"
   ]
  },
  {
   "cell_type": "code",
   "execution_count": 296,
   "metadata": {},
   "outputs": [
    {
     "data": {
      "text/plain": [
       "0.8370786516853933"
      ]
     },
     "execution_count": 296,
     "metadata": {},
     "output_type": "execute_result"
    }
   ],
   "source": [
    "acc3 = accuracy_score(y_val, y_pred3)\n",
    "acc3"
   ]
  },
  {
   "cell_type": "markdown",
   "metadata": {},
   "source": [
    "## Choosing best performance model"
   ]
  },
  {
   "cell_type": "code",
   "execution_count": 313,
   "metadata": {},
   "outputs": [
    {
     "name": "stdout",
     "output_type": "stream",
     "text": [
      "                 Model  Validation accuracy\n",
      "0                  KNN             0.870787\n",
      "1        Decision Tree             0.853933\n",
      "2  Logistic Regression             0.837079\n"
     ]
    }
   ],
   "source": [
    "result = pd.DataFrame({'Model': ['KNN', 'Decision Tree', 'Logistic Regression'],\n",
    "                       'Validation accuracy': [acc1, acc2, acc3]})\n",
    "print(result)"
   ]
  },
  {
   "cell_type": "code",
   "execution_count": 330,
   "metadata": {},
   "outputs": [
    {
     "data": {
      "image/png": "[encoded data removed]",
      "text/plain": [
       "<Figure size 576x396 with 1 Axes>"
      ]
     },
     "metadata": {},
     "output_type": "display_data"
    }
   ],
   "source": [
    "splot = sns.barplot(x='Model', y='Validation accuracy', data=result)\n",
    "\n",
    "for p in splot.patches:\n",
    "    splot.annotate(format(p.get_height(), '.3f'), \n",
    "                   (p.get_x() + p.get_width() / 2., p.get_height()), \n",
    "                   ha = 'center', va = 'center', \n",
    "                   size = 16,\n",
    "                   xytext = (0, -14), \n",
    "                   textcoords = 'offset points')"
   ]
  },
  {
   "cell_type": "markdown",
   "metadata": {},
   "source": [
    "We choose KNN as our best model because it gets highest validation accuracy 87.1%."
   ]
  }
 ],
 "metadata": {
  "hide_input": false,
  "kernelspec": {
   "display_name": "Python 3",
   "language": "python",
   "name": "python3"
  },
  "language_info": {
   "codemirror_mode": {
    "name": "ipython",
    "version": 3
   },
   "file_extension": ".py",
   "mimetype": "text/x-python",
   "name": "python",
   "nbconvert_exporter": "python",
   "pygments_lexer": "ipython3",
   "version": "3.8.5"
  },
  "toc": {
   "base_numbering": 1,
   "nav_menu": {},
   "number_sections": true,
   "sideBar": true,
   "skip_h1_title": false,
   "title_cell": "Table of Contents",
   "title_sidebar": "Contents",
   "toc_cell": false,
   "toc_position": {},
   "toc_section_display": true,
   "toc_window_display": false
  }
 },
 "nbformat": 4,
 "nbformat_minor": 4
}
